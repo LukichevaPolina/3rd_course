{
 "cells": [
  {
   "cell_type": "markdown",
   "metadata": {
    "id": "pzjJmipNdE5C"
   },
   "source": [
    "# Майнор \"Интеллектуальный анализ данных\""
   ]
  },
  {
   "cell_type": "markdown",
   "metadata": {
    "id": "p5CAd5PydE5F"
   },
   "source": [
    "# Курс \"Прикладные задачи анализа данных\""
   ]
  },
  {
   "cell_type": "markdown",
   "metadata": {
    "id": "_jOeICYddE5H"
   },
   "source": [
    "## Лабораторная работа №2. RecSys"
   ]
  },
  {
   "cell_type": "markdown",
   "metadata": {
    "id": "3y3wRRLjdE5M"
   },
   "source": [
    "В рамках данной лабораторной работы вам предлагается решить задачу рекомендательной системы на основе следующих данных:"
   ]
  },
  {
   "cell_type": "markdown",
   "metadata": {
    "id": "xLTO8m79dE5P"
   },
   "source": [
    "* **rating.csv** - рейтинги аниме по 10 бальной шкале\n",
    "* **anime.csv** - описание items"
   ]
  },
  {
   "cell_type": "markdown",
   "metadata": {
    "id": "CgwRYPq2dE5R"
   },
   "source": [
    "Скачать данные можно [здесь](https://drive.google.com/drive/u/1/folders/1FarHUuqQq4tQSlERB9K8uEfZAZT9tQWv)"
   ]
  },
  {
   "cell_type": "markdown",
   "metadata": {
    "id": "_8bp-ZPsdE5S"
   },
   "source": [
    "# Данные"
   ]
  },
  {
   "cell_type": "markdown",
   "metadata": {
    "id": "NxEZGweQae4M"
   },
   "source": [
    "Данные содержат информацию об предподчтениях 73,516 пользователей в 12,294 аниме. Каждый пользователь может добавить аниме и выставить рейтниг.\n",
    "\n",
    "Anime.csv\n",
    "\n",
    "* anime_id - идентификатор аниме (items)\n",
    "* name - полное название аниме\n",
    "* genre - категория/категории для аниме (разделены запятой).\n",
    "* type - тип: movie, TV, OVA, etc.\n",
    "* episodes - количество эпизодов (для экранизаций)\n",
    "* rating - средний рейтинг по аниме.\n",
    "* members - количество членов коммьюнити к аниме\n",
    "\n",
    "Rating.csv\n",
    "\n",
    "* user_id - идентификатор пользователя (users)\n",
    "* anime_id - идентификатор аниме\n",
    "* rating - рейтинг пользователя по аниме (-1 пользователь смотрел, но не оставил рейтинг)."
   ]
  },
  {
   "cell_type": "markdown",
   "metadata": {
    "id": "8u9BlNv_dE53"
   },
   "source": [
    "### ``` Если вычеслительные ресурсы не позволяют решить задачу на всех данных, то необходимо это сделать на \"сэмпле\" данных (выбрав от 5% ids' для user и item). Этот же подход справедлив и для оценки работы алгоритомв```"
   ]
  },
  {
   "cell_type": "code",
   "execution_count": 2,
   "metadata": {
    "id": "i2TF3pXAFt5t"
   },
   "outputs": [],
   "source": [
    "import pandas as pd\n",
    "import matplotlib.pyplot as plt"
   ]
  },
  {
   "cell_type": "code",
   "execution_count": 3,
   "metadata": {
    "colab": {
     "base_uri": "https://localhost:8080/"
    },
    "id": "sDlhZqxcEA2O",
    "outputId": "0569036f-ef17-40c0-e684-cdffd0eb0d9b"
   },
   "outputs": [
    {
     "name": "stdout",
     "output_type": "stream",
     "text": [
      "Mounted at /content/drive\n"
     ]
    }
   ],
   "source": [
    "from google.colab import drive\n",
    "drive.mount('/content/drive')"
   ]
  },
  {
   "cell_type": "code",
   "execution_count": 4,
   "metadata": {
    "colab": {
     "base_uri": "https://localhost:8080/"
    },
    "id": "fKi2ofxOERMa",
    "outputId": "812bcb61-e89f-4fde-f761-598dabba25ec"
   },
   "outputs": [
    {
     "name": "stdout",
     "output_type": "stream",
     "text": [
      "Archive:  /content/drive/MyDrive/LabRecSysData.zip\n",
      "  inflating: anime.csv               \n",
      "  inflating: rating.csv              \n"
     ]
    }
   ],
   "source": [
    "!unzip /content/drive/MyDrive/LabRecSysData.zip"
   ]
  },
  {
   "cell_type": "code",
   "execution_count": 5,
   "metadata": {
    "colab": {
     "base_uri": "https://localhost:8080/"
    },
    "id": "iA462kG9GAwN",
    "outputId": "ef29b11c-1ffb-4298-c432-56658c036a82"
   },
   "outputs": [
    {
     "data": {
      "text/plain": [
       "(12294, 7)"
      ]
     },
     "execution_count": 5,
     "metadata": {},
     "output_type": "execute_result"
    }
   ],
   "source": [
    "anime_data = pd.read_csv(\"anime.csv\", index_col=None)\n",
    "anime_data.shape"
   ]
  },
  {
   "cell_type": "code",
   "execution_count": 6,
   "metadata": {
    "colab": {
     "base_uri": "https://localhost:8080/"
    },
    "id": "-b08zBs4KU8Z",
    "outputId": "b4a9733c-c951-4471-c5c2-9f1bd9e3468d"
   },
   "outputs": [
    {
     "data": {
      "text/plain": [
       "(7813737, 3)"
      ]
     },
     "execution_count": 6,
     "metadata": {},
     "output_type": "execute_result"
    }
   ],
   "source": [
    "rating_data = pd.read_csv(\"rating.csv\", index_col=None)\n",
    "rating_data.shape"
   ]
  },
  {
   "cell_type": "code",
   "execution_count": 7,
   "metadata": {
    "colab": {
     "base_uri": "https://localhost:8080/",
     "height": 206
    },
    "id": "j0Ql2u3DKfWQ",
    "outputId": "2ff7bdbd-86be-4859-8e3e-fba11ea3ecd3"
   },
   "outputs": [
    {
     "data": {
      "text/html": [
       "\n",
       "  <div id=\"df-e03be9b9-e14c-4398-b85e-9714b5ec809a\">\n",
       "    <div class=\"colab-df-container\">\n",
       "      <div>\n",
       "<style scoped>\n",
       "    .dataframe tbody tr th:only-of-type {\n",
       "        vertical-align: middle;\n",
       "    }\n",
       "\n",
       "    .dataframe tbody tr th {\n",
       "        vertical-align: top;\n",
       "    }\n",
       "\n",
       "    .dataframe thead th {\n",
       "        text-align: right;\n",
       "    }\n",
       "</style>\n",
       "<table border=\"1\" class=\"dataframe\">\n",
       "  <thead>\n",
       "    <tr style=\"text-align: right;\">\n",
       "      <th></th>\n",
       "      <th>anime_id</th>\n",
       "      <th>name</th>\n",
       "      <th>genre</th>\n",
       "      <th>type</th>\n",
       "      <th>episodes</th>\n",
       "      <th>rating</th>\n",
       "      <th>members</th>\n",
       "    </tr>\n",
       "  </thead>\n",
       "  <tbody>\n",
       "    <tr>\n",
       "      <th>0</th>\n",
       "      <td>32281</td>\n",
       "      <td>Kimi no Na wa.</td>\n",
       "      <td>Drama, Romance, School, Supernatural</td>\n",
       "      <td>Movie</td>\n",
       "      <td>1</td>\n",
       "      <td>9.37</td>\n",
       "      <td>200630</td>\n",
       "    </tr>\n",
       "    <tr>\n",
       "      <th>1</th>\n",
       "      <td>5114</td>\n",
       "      <td>Fullmetal Alchemist: Brotherhood</td>\n",
       "      <td>Action, Adventure, Drama, Fantasy, Magic, Mili...</td>\n",
       "      <td>TV</td>\n",
       "      <td>64</td>\n",
       "      <td>9.26</td>\n",
       "      <td>793665</td>\n",
       "    </tr>\n",
       "    <tr>\n",
       "      <th>2</th>\n",
       "      <td>28977</td>\n",
       "      <td>Gintama°</td>\n",
       "      <td>Action, Comedy, Historical, Parody, Samurai, S...</td>\n",
       "      <td>TV</td>\n",
       "      <td>51</td>\n",
       "      <td>9.25</td>\n",
       "      <td>114262</td>\n",
       "    </tr>\n",
       "    <tr>\n",
       "      <th>3</th>\n",
       "      <td>9253</td>\n",
       "      <td>Steins;Gate</td>\n",
       "      <td>Sci-Fi, Thriller</td>\n",
       "      <td>TV</td>\n",
       "      <td>24</td>\n",
       "      <td>9.17</td>\n",
       "      <td>673572</td>\n",
       "    </tr>\n",
       "    <tr>\n",
       "      <th>4</th>\n",
       "      <td>9969</td>\n",
       "      <td>Gintama&amp;#039;</td>\n",
       "      <td>Action, Comedy, Historical, Parody, Samurai, S...</td>\n",
       "      <td>TV</td>\n",
       "      <td>51</td>\n",
       "      <td>9.16</td>\n",
       "      <td>151266</td>\n",
       "    </tr>\n",
       "  </tbody>\n",
       "</table>\n",
       "</div>\n",
       "      <button class=\"colab-df-convert\" onclick=\"convertToInteractive('df-e03be9b9-e14c-4398-b85e-9714b5ec809a')\"\n",
       "              title=\"Convert this dataframe to an interactive table.\"\n",
       "              style=\"display:none;\">\n",
       "        \n",
       "  <svg xmlns=\"http://www.w3.org/2000/svg\" height=\"24px\"viewBox=\"0 0 24 24\"\n",
       "       width=\"24px\">\n",
       "    <path d=\"M0 0h24v24H0V0z\" fill=\"none\"/>\n",
       "    <path d=\"M18.56 5.44l.94 2.06.94-2.06 2.06-.94-2.06-.94-.94-2.06-.94 2.06-2.06.94zm-11 1L8.5 8.5l.94-2.06 2.06-.94-2.06-.94L8.5 2.5l-.94 2.06-2.06.94zm10 10l.94 2.06.94-2.06 2.06-.94-2.06-.94-.94-2.06-.94 2.06-2.06.94z\"/><path d=\"M17.41 7.96l-1.37-1.37c-.4-.4-.92-.59-1.43-.59-.52 0-1.04.2-1.43.59L10.3 9.45l-7.72 7.72c-.78.78-.78 2.05 0 2.83L4 21.41c.39.39.9.59 1.41.59.51 0 1.02-.2 1.41-.59l7.78-7.78 2.81-2.81c.8-.78.8-2.07 0-2.86zM5.41 20L4 18.59l7.72-7.72 1.47 1.35L5.41 20z\"/>\n",
       "  </svg>\n",
       "      </button>\n",
       "      \n",
       "  <style>\n",
       "    .colab-df-container {\n",
       "      display:flex;\n",
       "      flex-wrap:wrap;\n",
       "      gap: 12px;\n",
       "    }\n",
       "\n",
       "    .colab-df-convert {\n",
       "      background-color: #E8F0FE;\n",
       "      border: none;\n",
       "      border-radius: 50%;\n",
       "      cursor: pointer;\n",
       "      display: none;\n",
       "      fill: #1967D2;\n",
       "      height: 32px;\n",
       "      padding: 0 0 0 0;\n",
       "      width: 32px;\n",
       "    }\n",
       "\n",
       "    .colab-df-convert:hover {\n",
       "      background-color: #E2EBFA;\n",
       "      box-shadow: 0px 1px 2px rgba(60, 64, 67, 0.3), 0px 1px 3px 1px rgba(60, 64, 67, 0.15);\n",
       "      fill: #174EA6;\n",
       "    }\n",
       "\n",
       "    [theme=dark] .colab-df-convert {\n",
       "      background-color: #3B4455;\n",
       "      fill: #D2E3FC;\n",
       "    }\n",
       "\n",
       "    [theme=dark] .colab-df-convert:hover {\n",
       "      background-color: #434B5C;\n",
       "      box-shadow: 0px 1px 3px 1px rgba(0, 0, 0, 0.15);\n",
       "      filter: drop-shadow(0px 1px 2px rgba(0, 0, 0, 0.3));\n",
       "      fill: #FFFFFF;\n",
       "    }\n",
       "  </style>\n",
       "\n",
       "      <script>\n",
       "        const buttonEl =\n",
       "          document.querySelector('#df-e03be9b9-e14c-4398-b85e-9714b5ec809a button.colab-df-convert');\n",
       "        buttonEl.style.display =\n",
       "          google.colab.kernel.accessAllowed ? 'block' : 'none';\n",
       "\n",
       "        async function convertToInteractive(key) {\n",
       "          const element = document.querySelector('#df-e03be9b9-e14c-4398-b85e-9714b5ec809a');\n",
       "          const dataTable =\n",
       "            await google.colab.kernel.invokeFunction('convertToInteractive',\n",
       "                                                     [key], {});\n",
       "          if (!dataTable) return;\n",
       "\n",
       "          const docLinkHtml = 'Like what you see? Visit the ' +\n",
       "            '<a target=\"_blank\" href=https://colab.research.google.com/notebooks/data_table.ipynb>data table notebook</a>'\n",
       "            + ' to learn more about interactive tables.';\n",
       "          element.innerHTML = '';\n",
       "          dataTable['output_type'] = 'display_data';\n",
       "          await google.colab.output.renderOutput(dataTable, element);\n",
       "          const docLink = document.createElement('div');\n",
       "          docLink.innerHTML = docLinkHtml;\n",
       "          element.appendChild(docLink);\n",
       "        }\n",
       "      </script>\n",
       "    </div>\n",
       "  </div>\n",
       "  "
      ],
      "text/plain": [
       "   anime_id                              name  \\\n",
       "0     32281                    Kimi no Na wa.   \n",
       "1      5114  Fullmetal Alchemist: Brotherhood   \n",
       "2     28977                          Gintama°   \n",
       "3      9253                       Steins;Gate   \n",
       "4      9969                     Gintama&#039;   \n",
       "\n",
       "                                               genre   type episodes  rating  \\\n",
       "0               Drama, Romance, School, Supernatural  Movie        1    9.37   \n",
       "1  Action, Adventure, Drama, Fantasy, Magic, Mili...     TV       64    9.26   \n",
       "2  Action, Comedy, Historical, Parody, Samurai, S...     TV       51    9.25   \n",
       "3                                   Sci-Fi, Thriller     TV       24    9.17   \n",
       "4  Action, Comedy, Historical, Parody, Samurai, S...     TV       51    9.16   \n",
       "\n",
       "   members  \n",
       "0   200630  \n",
       "1   793665  \n",
       "2   114262  \n",
       "3   673572  \n",
       "4   151266  "
      ]
     },
     "execution_count": 7,
     "metadata": {},
     "output_type": "execute_result"
    }
   ],
   "source": [
    "anime_data.head()"
   ]
  },
  {
   "cell_type": "code",
   "execution_count": 8,
   "metadata": {
    "colab": {
     "base_uri": "https://localhost:8080/",
     "height": 423
    },
    "id": "-_SY5tubKkAn",
    "outputId": "f0218681-b66c-4d43-a11f-0740d5bdc9a3"
   },
   "outputs": [
    {
     "data": {
      "text/html": [
       "\n",
       "  <div id=\"df-1c044b53-d972-4c64-a1ba-c33534680caa\">\n",
       "    <div class=\"colab-df-container\">\n",
       "      <div>\n",
       "<style scoped>\n",
       "    .dataframe tbody tr th:only-of-type {\n",
       "        vertical-align: middle;\n",
       "    }\n",
       "\n",
       "    .dataframe tbody tr th {\n",
       "        vertical-align: top;\n",
       "    }\n",
       "\n",
       "    .dataframe thead th {\n",
       "        text-align: right;\n",
       "    }\n",
       "</style>\n",
       "<table border=\"1\" class=\"dataframe\">\n",
       "  <thead>\n",
       "    <tr style=\"text-align: right;\">\n",
       "      <th></th>\n",
       "      <th>user_id</th>\n",
       "      <th>anime_id</th>\n",
       "      <th>rating</th>\n",
       "    </tr>\n",
       "  </thead>\n",
       "  <tbody>\n",
       "    <tr>\n",
       "      <th>0</th>\n",
       "      <td>1</td>\n",
       "      <td>20</td>\n",
       "      <td>-1</td>\n",
       "    </tr>\n",
       "    <tr>\n",
       "      <th>1</th>\n",
       "      <td>1</td>\n",
       "      <td>24</td>\n",
       "      <td>-1</td>\n",
       "    </tr>\n",
       "    <tr>\n",
       "      <th>2</th>\n",
       "      <td>1</td>\n",
       "      <td>79</td>\n",
       "      <td>-1</td>\n",
       "    </tr>\n",
       "    <tr>\n",
       "      <th>3</th>\n",
       "      <td>1</td>\n",
       "      <td>226</td>\n",
       "      <td>-1</td>\n",
       "    </tr>\n",
       "    <tr>\n",
       "      <th>4</th>\n",
       "      <td>1</td>\n",
       "      <td>241</td>\n",
       "      <td>-1</td>\n",
       "    </tr>\n",
       "    <tr>\n",
       "      <th>...</th>\n",
       "      <td>...</td>\n",
       "      <td>...</td>\n",
       "      <td>...</td>\n",
       "    </tr>\n",
       "    <tr>\n",
       "      <th>7813732</th>\n",
       "      <td>73515</td>\n",
       "      <td>16512</td>\n",
       "      <td>7</td>\n",
       "    </tr>\n",
       "    <tr>\n",
       "      <th>7813733</th>\n",
       "      <td>73515</td>\n",
       "      <td>17187</td>\n",
       "      <td>9</td>\n",
       "    </tr>\n",
       "    <tr>\n",
       "      <th>7813734</th>\n",
       "      <td>73515</td>\n",
       "      <td>22145</td>\n",
       "      <td>10</td>\n",
       "    </tr>\n",
       "    <tr>\n",
       "      <th>7813735</th>\n",
       "      <td>73516</td>\n",
       "      <td>790</td>\n",
       "      <td>9</td>\n",
       "    </tr>\n",
       "    <tr>\n",
       "      <th>7813736</th>\n",
       "      <td>73516</td>\n",
       "      <td>8074</td>\n",
       "      <td>9</td>\n",
       "    </tr>\n",
       "  </tbody>\n",
       "</table>\n",
       "<p>7813737 rows × 3 columns</p>\n",
       "</div>\n",
       "      <button class=\"colab-df-convert\" onclick=\"convertToInteractive('df-1c044b53-d972-4c64-a1ba-c33534680caa')\"\n",
       "              title=\"Convert this dataframe to an interactive table.\"\n",
       "              style=\"display:none;\">\n",
       "        \n",
       "  <svg xmlns=\"http://www.w3.org/2000/svg\" height=\"24px\"viewBox=\"0 0 24 24\"\n",
       "       width=\"24px\">\n",
       "    <path d=\"M0 0h24v24H0V0z\" fill=\"none\"/>\n",
       "    <path d=\"M18.56 5.44l.94 2.06.94-2.06 2.06-.94-2.06-.94-.94-2.06-.94 2.06-2.06.94zm-11 1L8.5 8.5l.94-2.06 2.06-.94-2.06-.94L8.5 2.5l-.94 2.06-2.06.94zm10 10l.94 2.06.94-2.06 2.06-.94-2.06-.94-.94-2.06-.94 2.06-2.06.94z\"/><path d=\"M17.41 7.96l-1.37-1.37c-.4-.4-.92-.59-1.43-.59-.52 0-1.04.2-1.43.59L10.3 9.45l-7.72 7.72c-.78.78-.78 2.05 0 2.83L4 21.41c.39.39.9.59 1.41.59.51 0 1.02-.2 1.41-.59l7.78-7.78 2.81-2.81c.8-.78.8-2.07 0-2.86zM5.41 20L4 18.59l7.72-7.72 1.47 1.35L5.41 20z\"/>\n",
       "  </svg>\n",
       "      </button>\n",
       "      \n",
       "  <style>\n",
       "    .colab-df-container {\n",
       "      display:flex;\n",
       "      flex-wrap:wrap;\n",
       "      gap: 12px;\n",
       "    }\n",
       "\n",
       "    .colab-df-convert {\n",
       "      background-color: #E8F0FE;\n",
       "      border: none;\n",
       "      border-radius: 50%;\n",
       "      cursor: pointer;\n",
       "      display: none;\n",
       "      fill: #1967D2;\n",
       "      height: 32px;\n",
       "      padding: 0 0 0 0;\n",
       "      width: 32px;\n",
       "    }\n",
       "\n",
       "    .colab-df-convert:hover {\n",
       "      background-color: #E2EBFA;\n",
       "      box-shadow: 0px 1px 2px rgba(60, 64, 67, 0.3), 0px 1px 3px 1px rgba(60, 64, 67, 0.15);\n",
       "      fill: #174EA6;\n",
       "    }\n",
       "\n",
       "    [theme=dark] .colab-df-convert {\n",
       "      background-color: #3B4455;\n",
       "      fill: #D2E3FC;\n",
       "    }\n",
       "\n",
       "    [theme=dark] .colab-df-convert:hover {\n",
       "      background-color: #434B5C;\n",
       "      box-shadow: 0px 1px 3px 1px rgba(0, 0, 0, 0.15);\n",
       "      filter: drop-shadow(0px 1px 2px rgba(0, 0, 0, 0.3));\n",
       "      fill: #FFFFFF;\n",
       "    }\n",
       "  </style>\n",
       "\n",
       "      <script>\n",
       "        const buttonEl =\n",
       "          document.querySelector('#df-1c044b53-d972-4c64-a1ba-c33534680caa button.colab-df-convert');\n",
       "        buttonEl.style.display =\n",
       "          google.colab.kernel.accessAllowed ? 'block' : 'none';\n",
       "\n",
       "        async function convertToInteractive(key) {\n",
       "          const element = document.querySelector('#df-1c044b53-d972-4c64-a1ba-c33534680caa');\n",
       "          const dataTable =\n",
       "            await google.colab.kernel.invokeFunction('convertToInteractive',\n",
       "                                                     [key], {});\n",
       "          if (!dataTable) return;\n",
       "\n",
       "          const docLinkHtml = 'Like what you see? Visit the ' +\n",
       "            '<a target=\"_blank\" href=https://colab.research.google.com/notebooks/data_table.ipynb>data table notebook</a>'\n",
       "            + ' to learn more about interactive tables.';\n",
       "          element.innerHTML = '';\n",
       "          dataTable['output_type'] = 'display_data';\n",
       "          await google.colab.output.renderOutput(dataTable, element);\n",
       "          const docLink = document.createElement('div');\n",
       "          docLink.innerHTML = docLinkHtml;\n",
       "          element.appendChild(docLink);\n",
       "        }\n",
       "      </script>\n",
       "    </div>\n",
       "  </div>\n",
       "  "
      ],
      "text/plain": [
       "         user_id  anime_id  rating\n",
       "0              1        20      -1\n",
       "1              1        24      -1\n",
       "2              1        79      -1\n",
       "3              1       226      -1\n",
       "4              1       241      -1\n",
       "...          ...       ...     ...\n",
       "7813732    73515     16512       7\n",
       "7813733    73515     17187       9\n",
       "7813734    73515     22145      10\n",
       "7813735    73516       790       9\n",
       "7813736    73516      8074       9\n",
       "\n",
       "[7813737 rows x 3 columns]"
      ]
     },
     "execution_count": 8,
     "metadata": {},
     "output_type": "execute_result"
    }
   ],
   "source": [
    "rating_data"
   ]
  },
  {
   "cell_type": "code",
   "execution_count": 30,
   "metadata": {
    "id": "l69FBhzhBnyB"
   },
   "outputs": [],
   "source": [
    "rating_without_empty = rating_data[rating_data['rating'] != -1]"
   ]
  },
  {
   "cell_type": "markdown",
   "metadata": {
    "id": "SngZt2vadE54"
   },
   "source": [
    "## Необходимо сделать:"
   ]
  },
  {
   "cell_type": "markdown",
   "metadata": {
    "id": "c_Lf3uQJdE55"
   },
   "source": [
    "### Задание №1 : Exploratory analysis (2 балла):\n",
    "\n",
    "* Распределение числа пользователей по количеству взаимодействий"
   ]
  },
  {
   "cell_type": "code",
   "execution_count": null,
   "metadata": {
    "colab": {
     "base_uri": "https://localhost:8080/"
    },
    "id": "ILkEUlv_tL7K",
    "outputId": "241b3279-ce47-4309-8e6c-17fa8a6a0980"
   },
   "outputs": [
    {
     "name": "stdout",
     "output_type": "stream",
     "text": [
      "modes [1.]\n",
      "mean 81.05548239335815\n"
     ]
    }
   ],
   "source": [
    "quantile = rating_data.groupby(['user_id']).size().quantile(0.95)\n",
    "quant_rating = rating_data.groupby(['user_id']).size().where(lambda x: x <= quantile).dropna()\n",
    "print('modes', quant_rating.mode().values)\n",
    "print('mean', quant_rating.mean())"
   ]
  },
  {
   "cell_type": "code",
   "execution_count": null,
   "metadata": {
    "colab": {
     "base_uri": "https://localhost:8080/",
     "height": 296
    },
    "id": "oivEHKA7tWj0",
    "outputId": "d6dc926c-37c7-414f-ee13-a245b7e2696a"
   },
   "outputs": [
    {
     "data": {
      "text/plain": [
       "[<matplotlib.lines.Line2D at 0x7f13279d3990>]"
      ]
     },
     "execution_count": 14,
     "metadata": {},
     "output_type": "execute_result"
    },
    {
     "data": {
      "image/png": "[encoded data removed]",
      "text/plain": [
       "<Figure size 432x288 with 1 Axes>"
      ]
     },
     "metadata": {
      "needs_background": "light"
     },
     "output_type": "display_data"
    }
   ],
   "source": [
    "s = rating_data.groupby(['user_id']).count()['anime_id'].to_frame(0).groupby(0)[0].count()\n",
    "res = s.to_frame(0)\n",
    "fig, ax = plt.subplots()\n",
    "fig.text(0.5, 0.04, 'Число взаимодействий', ha='center')\n",
    "fig.text(0.04, 0.5, 'Число пользователей', va='center', rotation='vertical')\n",
    "ax.plot(res)"
   ]
  },
  {
   "cell_type": "markdown",
   "metadata": {
    "id": "pxQ8Fn6OwJ3d"
   },
   "source": [
    "Чаще всего люди оценивают 1 фильм (изходя из моды), но в среднем 81 (исходя из медианы)"
   ]
  },
  {
   "cell_type": "markdown",
   "metadata": {
    "id": "afGZ3To_uOx9"
   },
   "source": [
    "* Разпределение числа \"айтемов\" по количеству взаимодействий"
   ]
  },
  {
   "cell_type": "code",
   "execution_count": null,
   "metadata": {
    "colab": {
     "base_uri": "https://localhost:8080/"
    },
    "id": "xojRFzQHucsF",
    "outputId": "6d90a403-9841-47da-c324-e87f4c38e8a2"
   },
   "outputs": [
    {
     "name": "stdout",
     "output_type": "stream",
     "text": [
      "modes [1.]\n",
      "mean 328.0750939849624\n"
     ]
    }
   ],
   "source": [
    "quantile = rating_data.groupby(['anime_id']).size().quantile(0.95)\n",
    "quant_rating = rating_data.groupby(['anime_id']).size().where(lambda x: x <= quantile).dropna()\n",
    "print('modes', quant_rating.mode().values)\n",
    "print('mean', quant_rating.mean())"
   ]
  },
  {
   "cell_type": "code",
   "execution_count": null,
   "metadata": {
    "colab": {
     "base_uri": "https://localhost:8080/",
     "height": 294
    },
    "id": "GMnsw2GhukuX",
    "outputId": "4898857e-dc8f-4f0c-a10a-11067ea85379"
   },
   "outputs": [
    {
     "data": {
      "text/plain": [
       "[<matplotlib.lines.Line2D at 0x7f1356e99e10>]"
      ]
     },
     "execution_count": 19,
     "metadata": {},
     "output_type": "execute_result"
    },
    {
     "data": {
      "image/png": "[encoded data removed]",
      "text/plain": [
       "<Figure size 432x288 with 1 Axes>"
      ]
     },
     "metadata": {
      "needs_background": "light"
     },
     "output_type": "display_data"
    }
   ],
   "source": [
    "s = rating_data.groupby(['anime_id']).count()['user_id'].to_frame(0).groupby(0)[0].count()\n",
    "res = s.to_frame(0)\n",
    "fig, ax = plt.subplots()\n",
    "fig.text(0.5, 0.04, 'Число взаимодействий', ha='center')\n",
    "fig.text(0.04, 0.5, 'Число айтемов', va='center', rotation='vertical')\n",
    "ax.plot(res)"
   ]
  },
  {
   "cell_type": "markdown",
   "metadata": {
    "id": "-m7SQof4uW0U"
   },
   "source": [
    "* Распределение числа рейтингов, средних рейтингов по пользователям, по \"айтемам\""
   ]
  },
  {
   "cell_type": "markdown",
   "metadata": {
    "id": "J7630jgYweMh"
   },
   "source": [
    "С большинством фильмов есть только одно взаимодействие, но в среднем с фильмами есть 328 взаимодействий"
   ]
  },
  {
   "cell_type": "code",
   "execution_count": null,
   "metadata": {
    "colab": {
     "base_uri": "https://localhost:8080/",
     "height": 308
    },
    "id": "cq-xx2TMvBpb",
    "outputId": "011afe91-94af-4c0a-e5f9-67660a9ed456"
   },
   "outputs": [
    {
     "data": {
      "text/plain": [
       "Text(0, 0.5, 'Число оценок')"
      ]
     },
     "execution_count": 6,
     "metadata": {},
     "output_type": "execute_result"
    },
    {
     "data": {
      "image/png": "[encoded data removed]",
      "text/plain": [
       "<Figure size 432x288 with 1 Axes>"
      ]
     },
     "metadata": {
      "needs_background": "light"
     },
     "output_type": "display_data"
    }
   ],
   "source": [
    "res = rating_data.groupby('rating').size()\n",
    "plt.bar(res.index.tolist(), res.tolist())\n",
    "plt.xlabel('Оценка')\n",
    "plt.ylabel('Число оценок')"
   ]
  },
  {
   "cell_type": "markdown",
   "metadata": {
    "id": "9ScBjxg7w0Yx"
   },
   "source": [
    "Люди, в основном либо вообще не оценивают фильм, либо ставят 7 или 8"
   ]
  },
  {
   "cell_type": "code",
   "execution_count": null,
   "metadata": {
    "colab": {
     "base_uri": "https://localhost:8080/",
     "height": 297
    },
    "id": "r8TAyIqwv3aP",
    "outputId": "2130a107-42bc-4a40-e7fb-7ba0582c52db"
   },
   "outputs": [
    {
     "data": {
      "text/plain": [
       "Text(0, 0.5, 'Число оценок')"
      ]
     },
     "execution_count": 8,
     "metadata": {},
     "output_type": "execute_result"
    },
    {
     "data": {
      "image/png": "[encoded data removed]",
      "text/plain": [
       "<Figure size 432x288 with 1 Axes>"
      ]
     },
     "metadata": {
      "needs_background": "light"
     },
     "output_type": "display_data"
    }
   ],
   "source": [
    "res = rating_data.groupby('user_id')['rating'].mean().apply(lambda x: round(x)).to_frame(0).groupby(0)[0].count()\n",
    "plt.bar(res.index.tolist(), res.tolist())\n",
    "plt.xlabel('Средняя оценка')\n",
    "plt.ylabel('Число оценок')"
   ]
  },
  {
   "cell_type": "markdown",
   "metadata": {
    "id": "hC3fGCodw7t5"
   },
   "source": [
    "Люди в основном ставят 7 или 8 или 9"
   ]
  },
  {
   "cell_type": "code",
   "execution_count": null,
   "metadata": {
    "colab": {
     "base_uri": "https://localhost:8080/",
     "height": 297
    },
    "id": "VEVmJ7Wxv8of",
    "outputId": "4a82de2b-b87b-48b4-dd47-15f28d4c5cdd"
   },
   "outputs": [
    {
     "data": {
      "text/plain": [
       "Text(0, 0.5, 'Число фильмов')"
      ]
     },
     "execution_count": 10,
     "metadata": {},
     "output_type": "execute_result"
    },
    {
     "data": {
      "image/png": "[encoded data removed]",
      "text/plain": [
       "<Figure size 432x288 with 1 Axes>"
      ]
     },
     "metadata": {
      "needs_background": "light"
     },
     "output_type": "display_data"
    }
   ],
   "source": [
    "res = rating_data.groupby('anime_id')['rating'].mean().apply(lambda x: round(x)).to_frame(0).groupby(0)[0].count()\n",
    "plt.bar(res.index.tolist(), res.tolist())\n",
    "plt.xlabel('Средняя оценка')\n",
    "plt.ylabel('Число фильмов')"
   ]
  },
  {
   "cell_type": "markdown",
   "metadata": {
    "id": "B07kbRy6xOAY"
   },
   "source": [
    "Фильмы в среднем имеют оценку 5 - 6"
   ]
  },
  {
   "cell_type": "markdown",
   "metadata": {
    "id": "hJYb7OM6dE56"
   },
   "source": [
    "### Задание №2 : Оценить разреженность данных по рейтингу (1/2 балла)"
   ]
  },
  {
   "cell_type": "code",
   "execution_count": null,
   "metadata": {
    "colab": {
     "base_uri": "https://localhost:8080/"
    },
    "id": "JFpqUvCMEdFg",
    "outputId": "14307e2e-7579-490a-aac3-b959f0675daa"
   },
   "outputs": [
    {
     "name": "stdout",
     "output_type": "stream",
     "text": [
      "Sparsity:  81.10384314189228\n"
     ]
    }
   ],
   "source": [
    "sparsity = float(len(rating_data[rating_data['rating'] != -1]))\n",
    "sparsity /= len(rating_data['rating'])\n",
    "sparsity *= 100\n",
    "print('Sparsity: ', sparsity)"
   ]
  },
  {
   "cell_type": "markdown",
   "metadata": {
    "id": "FTOXJFn4xhwZ"
   },
   "source": [
    "В данных оценка остуствтсвует у 19% пользователей, что является довольно быльшим значением."
   ]
  },
  {
   "cell_type": "markdown",
   "metadata": {
    "id": "jxVlXagNdE57"
   },
   "source": [
    "### Задание №3 : Разделить данные на тренировочные и валидационные (1/2 балла)"
   ]
  },
  {
   "cell_type": "code",
   "execution_count": 9,
   "metadata": {
    "id": "9edLDHbbI7dn"
   },
   "outputs": [],
   "source": [
    "import numpy as np"
   ]
  },
  {
   "cell_type": "markdown",
   "metadata": {
    "id": "L1W3JmWOxtQe"
   },
   "source": [
    "Из-за небольших вычислительных мощностей было принято решение работать только с 5% данных"
   ]
  },
  {
   "cell_type": "code",
   "execution_count": 10,
   "metadata": {
    "id": "IFAooNSfKHTH"
   },
   "outputs": [],
   "source": [
    "anime_samples = 1200\n",
    "user_samples = 7350\n",
    "anime_data_sample = anime_data[anime_data[\"anime_id\"] < anime_samples]\n",
    "rating_data_sample = rating_data[(rating_data[\"user_id\"] < user_samples) & (rating_data[\"anime_id\"] < anime_samples)]"
   ]
  },
  {
   "cell_type": "code",
   "execution_count": 11,
   "metadata": {
    "colab": {
     "base_uri": "https://localhost:8080/",
     "height": 0
    },
    "id": "OzBlQMWvdk2a",
    "outputId": "3eb91ab8-87a9-4341-aad1-a87061d110f5"
   },
   "outputs": [
    {
     "data": {
      "text/html": [
       "\n",
       "  <div id=\"df-aaf06b1e-901c-43e8-bd30-8251d650af1a\">\n",
       "    <div class=\"colab-df-container\">\n",
       "      <div>\n",
       "<style scoped>\n",
       "    .dataframe tbody tr th:only-of-type {\n",
       "        vertical-align: middle;\n",
       "    }\n",
       "\n",
       "    .dataframe tbody tr th {\n",
       "        vertical-align: top;\n",
       "    }\n",
       "\n",
       "    .dataframe thead th {\n",
       "        text-align: right;\n",
       "    }\n",
       "</style>\n",
       "<table border=\"1\" class=\"dataframe\">\n",
       "  <thead>\n",
       "    <tr style=\"text-align: right;\">\n",
       "      <th></th>\n",
       "      <th>anime_id</th>\n",
       "      <th>name</th>\n",
       "      <th>genre</th>\n",
       "      <th>type</th>\n",
       "      <th>episodes</th>\n",
       "      <th>rating</th>\n",
       "      <th>members</th>\n",
       "    </tr>\n",
       "  </thead>\n",
       "  <tbody>\n",
       "    <tr>\n",
       "      <th>7</th>\n",
       "      <td>820</td>\n",
       "      <td>Ginga Eiyuu Densetsu</td>\n",
       "      <td>Drama, Military, Sci-Fi, Space</td>\n",
       "      <td>OVA</td>\n",
       "      <td>110</td>\n",
       "      <td>9.11</td>\n",
       "      <td>80679</td>\n",
       "    </tr>\n",
       "    <tr>\n",
       "      <th>12</th>\n",
       "      <td>918</td>\n",
       "      <td>Gintama</td>\n",
       "      <td>Action, Comedy, Historical, Parody, Samurai, S...</td>\n",
       "      <td>TV</td>\n",
       "      <td>201</td>\n",
       "      <td>9.04</td>\n",
       "      <td>336376</td>\n",
       "    </tr>\n",
       "    <tr>\n",
       "      <th>15</th>\n",
       "      <td>199</td>\n",
       "      <td>Sen to Chihiro no Kamikakushi</td>\n",
       "      <td>Adventure, Drama, Supernatural</td>\n",
       "      <td>Movie</td>\n",
       "      <td>1</td>\n",
       "      <td>8.93</td>\n",
       "      <td>466254</td>\n",
       "    </tr>\n",
       "    <tr>\n",
       "      <th>20</th>\n",
       "      <td>263</td>\n",
       "      <td>Hajime no Ippo</td>\n",
       "      <td>Comedy, Drama, Shounen, Sports</td>\n",
       "      <td>TV</td>\n",
       "      <td>75</td>\n",
       "      <td>8.83</td>\n",
       "      <td>157670</td>\n",
       "    </tr>\n",
       "    <tr>\n",
       "      <th>21</th>\n",
       "      <td>44</td>\n",
       "      <td>Rurouni Kenshin: Meiji Kenkaku Romantan - Tsui...</td>\n",
       "      <td>Action, Drama, Historical, Martial Arts, Roman...</td>\n",
       "      <td>OVA</td>\n",
       "      <td>4</td>\n",
       "      <td>8.83</td>\n",
       "      <td>129307</td>\n",
       "    </tr>\n",
       "    <tr>\n",
       "      <th>...</th>\n",
       "      <td>...</td>\n",
       "      <td>...</td>\n",
       "      <td>...</td>\n",
       "      <td>...</td>\n",
       "      <td>...</td>\n",
       "      <td>...</td>\n",
       "      <td>...</td>\n",
       "    </tr>\n",
       "    <tr>\n",
       "      <th>11872</th>\n",
       "      <td>755</td>\n",
       "      <td>Boku no Sexual Harassment</td>\n",
       "      <td>Hentai, Yaoi</td>\n",
       "      <td>OVA</td>\n",
       "      <td>3</td>\n",
       "      <td>5.96</td>\n",
       "      <td>9980</td>\n",
       "    </tr>\n",
       "    <tr>\n",
       "      <th>11873</th>\n",
       "      <td>692</td>\n",
       "      <td>Dousou Kai</td>\n",
       "      <td>Harem, Hentai, Romance</td>\n",
       "      <td>OVA</td>\n",
       "      <td>4</td>\n",
       "      <td>5.96</td>\n",
       "      <td>1047</td>\n",
       "    </tr>\n",
       "    <tr>\n",
       "      <th>12096</th>\n",
       "      <td>724</td>\n",
       "      <td>Enzai</td>\n",
       "      <td>Hentai, Horror, Yaoi</td>\n",
       "      <td>OVA</td>\n",
       "      <td>2</td>\n",
       "      <td>5.55</td>\n",
       "      <td>13711</td>\n",
       "    </tr>\n",
       "    <tr>\n",
       "      <th>12105</th>\n",
       "      <td>977</td>\n",
       "      <td>Ginga Teikoku no Metsubou Gaiden: Aoki Ookami-...</td>\n",
       "      <td>Action, Hentai, Mecha, Sci-Fi, Yaoi</td>\n",
       "      <td>OVA</td>\n",
       "      <td>1</td>\n",
       "      <td>5.53</td>\n",
       "      <td>4559</td>\n",
       "    </tr>\n",
       "    <tr>\n",
       "      <th>12203</th>\n",
       "      <td>730</td>\n",
       "      <td>Houkago no Shokuinshitsu</td>\n",
       "      <td>Drama, Romance, Yaoi</td>\n",
       "      <td>OVA</td>\n",
       "      <td>2</td>\n",
       "      <td>5.23</td>\n",
       "      <td>4550</td>\n",
       "    </tr>\n",
       "  </tbody>\n",
       "</table>\n",
       "<p>1094 rows × 7 columns</p>\n",
       "</div>\n",
       "      <button class=\"colab-df-convert\" onclick=\"convertToInteractive('df-aaf06b1e-901c-43e8-bd30-8251d650af1a')\"\n",
       "              title=\"Convert this dataframe to an interactive table.\"\n",
       "              style=\"display:none;\">\n",
       "        \n",
       "  <svg xmlns=\"http://www.w3.org/2000/svg\" height=\"24px\"viewBox=\"0 0 24 24\"\n",
       "       width=\"24px\">\n",
       "    <path d=\"M0 0h24v24H0V0z\" fill=\"none\"/>\n",
       "    <path d=\"M18.56 5.44l.94 2.06.94-2.06 2.06-.94-2.06-.94-.94-2.06-.94 2.06-2.06.94zm-11 1L8.5 8.5l.94-2.06 2.06-.94-2.06-.94L8.5 2.5l-.94 2.06-2.06.94zm10 10l.94 2.06.94-2.06 2.06-.94-2.06-.94-.94-2.06-.94 2.06-2.06.94z\"/><path d=\"M17.41 7.96l-1.37-1.37c-.4-.4-.92-.59-1.43-.59-.52 0-1.04.2-1.43.59L10.3 9.45l-7.72 7.72c-.78.78-.78 2.05 0 2.83L4 21.41c.39.39.9.59 1.41.59.51 0 1.02-.2 1.41-.59l7.78-7.78 2.81-2.81c.8-.78.8-2.07 0-2.86zM5.41 20L4 18.59l7.72-7.72 1.47 1.35L5.41 20z\"/>\n",
       "  </svg>\n",
       "      </button>\n",
       "      \n",
       "  <style>\n",
       "    .colab-df-container {\n",
       "      display:flex;\n",
       "      flex-wrap:wrap;\n",
       "      gap: 12px;\n",
       "    }\n",
       "\n",
       "    .colab-df-convert {\n",
       "      background-color: #E8F0FE;\n",
       "      border: none;\n",
       "      border-radius: 50%;\n",
       "      cursor: pointer;\n",
       "      display: none;\n",
       "      fill: #1967D2;\n",
       "      height: 32px;\n",
       "      padding: 0 0 0 0;\n",
       "      width: 32px;\n",
       "    }\n",
       "\n",
       "    .colab-df-convert:hover {\n",
       "      background-color: #E2EBFA;\n",
       "      box-shadow: 0px 1px 2px rgba(60, 64, 67, 0.3), 0px 1px 3px 1px rgba(60, 64, 67, 0.15);\n",
       "      fill: #174EA6;\n",
       "    }\n",
       "\n",
       "    [theme=dark] .colab-df-convert {\n",
       "      background-color: #3B4455;\n",
       "      fill: #D2E3FC;\n",
       "    }\n",
       "\n",
       "    [theme=dark] .colab-df-convert:hover {\n",
       "      background-color: #434B5C;\n",
       "      box-shadow: 0px 1px 3px 1px rgba(0, 0, 0, 0.15);\n",
       "      filter: drop-shadow(0px 1px 2px rgba(0, 0, 0, 0.3));\n",
       "      fill: #FFFFFF;\n",
       "    }\n",
       "  </style>\n",
       "\n",
       "      <script>\n",
       "        const buttonEl =\n",
       "          document.querySelector('#df-aaf06b1e-901c-43e8-bd30-8251d650af1a button.colab-df-convert');\n",
       "        buttonEl.style.display =\n",
       "          google.colab.kernel.accessAllowed ? 'block' : 'none';\n",
       "\n",
       "        async function convertToInteractive(key) {\n",
       "          const element = document.querySelector('#df-aaf06b1e-901c-43e8-bd30-8251d650af1a');\n",
       "          const dataTable =\n",
       "            await google.colab.kernel.invokeFunction('convertToInteractive',\n",
       "                                                     [key], {});\n",
       "          if (!dataTable) return;\n",
       "\n",
       "          const docLinkHtml = 'Like what you see? Visit the ' +\n",
       "            '<a target=\"_blank\" href=https://colab.research.google.com/notebooks/data_table.ipynb>data table notebook</a>'\n",
       "            + ' to learn more about interactive tables.';\n",
       "          element.innerHTML = '';\n",
       "          dataTable['output_type'] = 'display_data';\n",
       "          await google.colab.output.renderOutput(dataTable, element);\n",
       "          const docLink = document.createElement('div');\n",
       "          docLink.innerHTML = docLinkHtml;\n",
       "          element.appendChild(docLink);\n",
       "        }\n",
       "      </script>\n",
       "    </div>\n",
       "  </div>\n",
       "  "
      ],
      "text/plain": [
       "       anime_id                                               name  \\\n",
       "7           820                               Ginga Eiyuu Densetsu   \n",
       "12          918                                            Gintama   \n",
       "15          199                      Sen to Chihiro no Kamikakushi   \n",
       "20          263                                     Hajime no Ippo   \n",
       "21           44  Rurouni Kenshin: Meiji Kenkaku Romantan - Tsui...   \n",
       "...         ...                                                ...   \n",
       "11872       755                          Boku no Sexual Harassment   \n",
       "11873       692                                         Dousou Kai   \n",
       "12096       724                                              Enzai   \n",
       "12105       977  Ginga Teikoku no Metsubou Gaiden: Aoki Ookami-...   \n",
       "12203       730                           Houkago no Shokuinshitsu   \n",
       "\n",
       "                                                   genre   type episodes  \\\n",
       "7                         Drama, Military, Sci-Fi, Space    OVA      110   \n",
       "12     Action, Comedy, Historical, Parody, Samurai, S...     TV      201   \n",
       "15                        Adventure, Drama, Supernatural  Movie        1   \n",
       "20                        Comedy, Drama, Shounen, Sports     TV       75   \n",
       "21     Action, Drama, Historical, Martial Arts, Roman...    OVA        4   \n",
       "...                                                  ...    ...      ...   \n",
       "11872                                       Hentai, Yaoi    OVA        3   \n",
       "11873                             Harem, Hentai, Romance    OVA        4   \n",
       "12096                               Hentai, Horror, Yaoi    OVA        2   \n",
       "12105                Action, Hentai, Mecha, Sci-Fi, Yaoi    OVA        1   \n",
       "12203                               Drama, Romance, Yaoi    OVA        2   \n",
       "\n",
       "       rating  members  \n",
       "7        9.11    80679  \n",
       "12       9.04   336376  \n",
       "15       8.93   466254  \n",
       "20       8.83   157670  \n",
       "21       8.83   129307  \n",
       "...       ...      ...  \n",
       "11872    5.96     9980  \n",
       "11873    5.96     1047  \n",
       "12096    5.55    13711  \n",
       "12105    5.53     4559  \n",
       "12203    5.23     4550  \n",
       "\n",
       "[1094 rows x 7 columns]"
      ]
     },
     "execution_count": 11,
     "metadata": {},
     "output_type": "execute_result"
    }
   ],
   "source": [
    "anime_data_sample"
   ]
  },
  {
   "cell_type": "markdown",
   "metadata": {
    "id": "Fj7G7L1tx1e9"
   },
   "source": [
    "Таблица Х создана для применения SVD из библиотеки numpy:"
   ]
  },
  {
   "cell_type": "code",
   "execution_count": 12,
   "metadata": {
    "id": "XS98r9v9O5Vq"
   },
   "outputs": [],
   "source": [
    "X = np.zeros((user_samples, anime_data_sample.shape[0]), np.int64) \n",
    "\n",
    "for rating in rating_data_sample.values:\n",
    "    if rating[1] < anime_data_sample.shape[0]:\n",
    "        X[rating[0] - 1][rating[1] - 1] = rating[2]"
   ]
  },
  {
   "cell_type": "code",
   "execution_count": 13,
   "metadata": {
    "colab": {
     "base_uri": "https://localhost:8080/"
    },
    "id": "pHM26NpjeNhj",
    "outputId": "21cda846-84d1-45e2-d7e3-5c85fc04c7ba"
   },
   "outputs": [
    {
     "data": {
      "text/plain": [
       "(7350, 1094)"
      ]
     },
     "execution_count": 13,
     "metadata": {},
     "output_type": "execute_result"
    }
   ],
   "source": [
    "X.shape"
   ]
  },
  {
   "cell_type": "code",
   "execution_count": 14,
   "metadata": {
    "colab": {
     "base_uri": "https://localhost:8080/"
    },
    "id": "6A1BMbiTkCtI",
    "outputId": "cc377db7-9a1c-477b-bd75-2c68809fda0b"
   },
   "outputs": [
    {
     "data": {
      "text/plain": [
       "(1094, 7)"
      ]
     },
     "execution_count": 14,
     "metadata": {},
     "output_type": "execute_result"
    }
   ],
   "source": [
    "anime_data_sample.values.shape"
   ]
  },
  {
   "cell_type": "code",
   "execution_count": 15,
   "metadata": {
    "id": "izTWSTA4Pdh7"
   },
   "outputs": [],
   "source": [
    "anime_ids = [\"none\"] * anime_data_sample.values.shape[0]\n",
    "\n",
    "i = 0\n",
    "for x in anime_data_sample.values:\n",
    "    anime_ids[i]=x[0]\n",
    "    i += 1\n",
    "\n",
    "X_df = pd.DataFrame(X, columns=anime_ids)"
   ]
  },
  {
   "cell_type": "code",
   "execution_count": 16,
   "metadata": {
    "colab": {
     "base_uri": "https://localhost:8080/",
     "height": 0
    },
    "id": "IR_lB_0BZtpc",
    "outputId": "72594c06-3c36-4e3a-f97a-70b0ce2878d1"
   },
   "outputs": [
    {
     "data": {
      "text/html": [
       "\n",
       "  <div id=\"df-24cd9cb2-93ee-4869-98d8-a02b53f91a11\">\n",
       "    <div class=\"colab-df-container\">\n",
       "      <div>\n",
       "<style scoped>\n",
       "    .dataframe tbody tr th:only-of-type {\n",
       "        vertical-align: middle;\n",
       "    }\n",
       "\n",
       "    .dataframe tbody tr th {\n",
       "        vertical-align: top;\n",
       "    }\n",
       "\n",
       "    .dataframe thead th {\n",
       "        text-align: right;\n",
       "    }\n",
       "</style>\n",
       "<table border=\"1\" class=\"dataframe\">\n",
       "  <thead>\n",
       "    <tr style=\"text-align: right;\">\n",
       "      <th></th>\n",
       "      <th>820</th>\n",
       "      <th>918</th>\n",
       "      <th>199</th>\n",
       "      <th>263</th>\n",
       "      <th>44</th>\n",
       "      <th>1</th>\n",
       "      <th>164</th>\n",
       "      <th>457</th>\n",
       "      <th>245</th>\n",
       "      <th>431</th>\n",
       "      <th>...</th>\n",
       "      <th>1038</th>\n",
       "      <th>220</th>\n",
       "      <th>736</th>\n",
       "      <th>827</th>\n",
       "      <th>828</th>\n",
       "      <th>755</th>\n",
       "      <th>692</th>\n",
       "      <th>724</th>\n",
       "      <th>977</th>\n",
       "      <th>730</th>\n",
       "    </tr>\n",
       "  </thead>\n",
       "  <tbody>\n",
       "    <tr>\n",
       "      <th>0</th>\n",
       "      <td>0</td>\n",
       "      <td>0</td>\n",
       "      <td>0</td>\n",
       "      <td>0</td>\n",
       "      <td>0</td>\n",
       "      <td>0</td>\n",
       "      <td>0</td>\n",
       "      <td>0</td>\n",
       "      <td>0</td>\n",
       "      <td>0</td>\n",
       "      <td>...</td>\n",
       "      <td>0</td>\n",
       "      <td>0</td>\n",
       "      <td>0</td>\n",
       "      <td>0</td>\n",
       "      <td>0</td>\n",
       "      <td>0</td>\n",
       "      <td>0</td>\n",
       "      <td>0</td>\n",
       "      <td>0</td>\n",
       "      <td>0</td>\n",
       "    </tr>\n",
       "    <tr>\n",
       "      <th>1</th>\n",
       "      <td>0</td>\n",
       "      <td>0</td>\n",
       "      <td>0</td>\n",
       "      <td>0</td>\n",
       "      <td>0</td>\n",
       "      <td>0</td>\n",
       "      <td>0</td>\n",
       "      <td>0</td>\n",
       "      <td>0</td>\n",
       "      <td>0</td>\n",
       "      <td>...</td>\n",
       "      <td>0</td>\n",
       "      <td>0</td>\n",
       "      <td>0</td>\n",
       "      <td>0</td>\n",
       "      <td>0</td>\n",
       "      <td>0</td>\n",
       "      <td>0</td>\n",
       "      <td>0</td>\n",
       "      <td>0</td>\n",
       "      <td>0</td>\n",
       "    </tr>\n",
       "    <tr>\n",
       "      <th>2</th>\n",
       "      <td>0</td>\n",
       "      <td>0</td>\n",
       "      <td>0</td>\n",
       "      <td>0</td>\n",
       "      <td>0</td>\n",
       "      <td>0</td>\n",
       "      <td>0</td>\n",
       "      <td>0</td>\n",
       "      <td>0</td>\n",
       "      <td>0</td>\n",
       "      <td>...</td>\n",
       "      <td>0</td>\n",
       "      <td>0</td>\n",
       "      <td>0</td>\n",
       "      <td>0</td>\n",
       "      <td>0</td>\n",
       "      <td>0</td>\n",
       "      <td>0</td>\n",
       "      <td>0</td>\n",
       "      <td>0</td>\n",
       "      <td>0</td>\n",
       "    </tr>\n",
       "    <tr>\n",
       "      <th>3</th>\n",
       "      <td>0</td>\n",
       "      <td>0</td>\n",
       "      <td>0</td>\n",
       "      <td>0</td>\n",
       "      <td>0</td>\n",
       "      <td>-1</td>\n",
       "      <td>0</td>\n",
       "      <td>0</td>\n",
       "      <td>0</td>\n",
       "      <td>0</td>\n",
       "      <td>...</td>\n",
       "      <td>0</td>\n",
       "      <td>0</td>\n",
       "      <td>0</td>\n",
       "      <td>0</td>\n",
       "      <td>0</td>\n",
       "      <td>0</td>\n",
       "      <td>0</td>\n",
       "      <td>0</td>\n",
       "      <td>0</td>\n",
       "      <td>0</td>\n",
       "    </tr>\n",
       "    <tr>\n",
       "      <th>4</th>\n",
       "      <td>0</td>\n",
       "      <td>0</td>\n",
       "      <td>0</td>\n",
       "      <td>0</td>\n",
       "      <td>0</td>\n",
       "      <td>8</td>\n",
       "      <td>0</td>\n",
       "      <td>0</td>\n",
       "      <td>0</td>\n",
       "      <td>0</td>\n",
       "      <td>...</td>\n",
       "      <td>0</td>\n",
       "      <td>0</td>\n",
       "      <td>0</td>\n",
       "      <td>0</td>\n",
       "      <td>0</td>\n",
       "      <td>0</td>\n",
       "      <td>0</td>\n",
       "      <td>0</td>\n",
       "      <td>0</td>\n",
       "      <td>0</td>\n",
       "    </tr>\n",
       "    <tr>\n",
       "      <th>...</th>\n",
       "      <td>...</td>\n",
       "      <td>...</td>\n",
       "      <td>...</td>\n",
       "      <td>...</td>\n",
       "      <td>...</td>\n",
       "      <td>...</td>\n",
       "      <td>...</td>\n",
       "      <td>...</td>\n",
       "      <td>...</td>\n",
       "      <td>...</td>\n",
       "      <td>...</td>\n",
       "      <td>...</td>\n",
       "      <td>...</td>\n",
       "      <td>...</td>\n",
       "      <td>...</td>\n",
       "      <td>...</td>\n",
       "      <td>...</td>\n",
       "      <td>...</td>\n",
       "      <td>...</td>\n",
       "      <td>...</td>\n",
       "      <td>...</td>\n",
       "    </tr>\n",
       "    <tr>\n",
       "      <th>7345</th>\n",
       "      <td>-1</td>\n",
       "      <td>0</td>\n",
       "      <td>0</td>\n",
       "      <td>0</td>\n",
       "      <td>0</td>\n",
       "      <td>9</td>\n",
       "      <td>8</td>\n",
       "      <td>0</td>\n",
       "      <td>0</td>\n",
       "      <td>0</td>\n",
       "      <td>...</td>\n",
       "      <td>0</td>\n",
       "      <td>0</td>\n",
       "      <td>0</td>\n",
       "      <td>8</td>\n",
       "      <td>0</td>\n",
       "      <td>0</td>\n",
       "      <td>0</td>\n",
       "      <td>0</td>\n",
       "      <td>0</td>\n",
       "      <td>0</td>\n",
       "    </tr>\n",
       "    <tr>\n",
       "      <th>7346</th>\n",
       "      <td>10</td>\n",
       "      <td>0</td>\n",
       "      <td>0</td>\n",
       "      <td>0</td>\n",
       "      <td>8</td>\n",
       "      <td>0</td>\n",
       "      <td>0</td>\n",
       "      <td>0</td>\n",
       "      <td>0</td>\n",
       "      <td>0</td>\n",
       "      <td>...</td>\n",
       "      <td>0</td>\n",
       "      <td>0</td>\n",
       "      <td>0</td>\n",
       "      <td>0</td>\n",
       "      <td>0</td>\n",
       "      <td>0</td>\n",
       "      <td>0</td>\n",
       "      <td>0</td>\n",
       "      <td>0</td>\n",
       "      <td>0</td>\n",
       "    </tr>\n",
       "    <tr>\n",
       "      <th>7347</th>\n",
       "      <td>0</td>\n",
       "      <td>0</td>\n",
       "      <td>0</td>\n",
       "      <td>0</td>\n",
       "      <td>0</td>\n",
       "      <td>0</td>\n",
       "      <td>0</td>\n",
       "      <td>0</td>\n",
       "      <td>0</td>\n",
       "      <td>0</td>\n",
       "      <td>...</td>\n",
       "      <td>0</td>\n",
       "      <td>0</td>\n",
       "      <td>0</td>\n",
       "      <td>0</td>\n",
       "      <td>0</td>\n",
       "      <td>0</td>\n",
       "      <td>0</td>\n",
       "      <td>0</td>\n",
       "      <td>0</td>\n",
       "      <td>0</td>\n",
       "    </tr>\n",
       "    <tr>\n",
       "      <th>7348</th>\n",
       "      <td>0</td>\n",
       "      <td>0</td>\n",
       "      <td>0</td>\n",
       "      <td>0</td>\n",
       "      <td>0</td>\n",
       "      <td>0</td>\n",
       "      <td>0</td>\n",
       "      <td>0</td>\n",
       "      <td>0</td>\n",
       "      <td>0</td>\n",
       "      <td>...</td>\n",
       "      <td>0</td>\n",
       "      <td>0</td>\n",
       "      <td>0</td>\n",
       "      <td>0</td>\n",
       "      <td>0</td>\n",
       "      <td>0</td>\n",
       "      <td>0</td>\n",
       "      <td>0</td>\n",
       "      <td>0</td>\n",
       "      <td>0</td>\n",
       "    </tr>\n",
       "    <tr>\n",
       "      <th>7349</th>\n",
       "      <td>0</td>\n",
       "      <td>0</td>\n",
       "      <td>0</td>\n",
       "      <td>0</td>\n",
       "      <td>0</td>\n",
       "      <td>0</td>\n",
       "      <td>0</td>\n",
       "      <td>0</td>\n",
       "      <td>0</td>\n",
       "      <td>0</td>\n",
       "      <td>...</td>\n",
       "      <td>0</td>\n",
       "      <td>0</td>\n",
       "      <td>0</td>\n",
       "      <td>0</td>\n",
       "      <td>0</td>\n",
       "      <td>0</td>\n",
       "      <td>0</td>\n",
       "      <td>0</td>\n",
       "      <td>0</td>\n",
       "      <td>0</td>\n",
       "    </tr>\n",
       "  </tbody>\n",
       "</table>\n",
       "<p>7350 rows × 1094 columns</p>\n",
       "</div>\n",
       "      <button class=\"colab-df-convert\" onclick=\"convertToInteractive('df-24cd9cb2-93ee-4869-98d8-a02b53f91a11')\"\n",
       "              title=\"Convert this dataframe to an interactive table.\"\n",
       "              style=\"display:none;\">\n",
       "        \n",
       "  <svg xmlns=\"http://www.w3.org/2000/svg\" height=\"24px\"viewBox=\"0 0 24 24\"\n",
       "       width=\"24px\">\n",
       "    <path d=\"M0 0h24v24H0V0z\" fill=\"none\"/>\n",
       "    <path d=\"M18.56 5.44l.94 2.06.94-2.06 2.06-.94-2.06-.94-.94-2.06-.94 2.06-2.06.94zm-11 1L8.5 8.5l.94-2.06 2.06-.94-2.06-.94L8.5 2.5l-.94 2.06-2.06.94zm10 10l.94 2.06.94-2.06 2.06-.94-2.06-.94-.94-2.06-.94 2.06-2.06.94z\"/><path d=\"M17.41 7.96l-1.37-1.37c-.4-.4-.92-.59-1.43-.59-.52 0-1.04.2-1.43.59L10.3 9.45l-7.72 7.72c-.78.78-.78 2.05 0 2.83L4 21.41c.39.39.9.59 1.41.59.51 0 1.02-.2 1.41-.59l7.78-7.78 2.81-2.81c.8-.78.8-2.07 0-2.86zM5.41 20L4 18.59l7.72-7.72 1.47 1.35L5.41 20z\"/>\n",
       "  </svg>\n",
       "      </button>\n",
       "      \n",
       "  <style>\n",
       "    .colab-df-container {\n",
       "      display:flex;\n",
       "      flex-wrap:wrap;\n",
       "      gap: 12px;\n",
       "    }\n",
       "\n",
       "    .colab-df-convert {\n",
       "      background-color: #E8F0FE;\n",
       "      border: none;\n",
       "      border-radius: 50%;\n",
       "      cursor: pointer;\n",
       "      display: none;\n",
       "      fill: #1967D2;\n",
       "      height: 32px;\n",
       "      padding: 0 0 0 0;\n",
       "      width: 32px;\n",
       "    }\n",
       "\n",
       "    .colab-df-convert:hover {\n",
       "      background-color: #E2EBFA;\n",
       "      box-shadow: 0px 1px 2px rgba(60, 64, 67, 0.3), 0px 1px 3px 1px rgba(60, 64, 67, 0.15);\n",
       "      fill: #174EA6;\n",
       "    }\n",
       "\n",
       "    [theme=dark] .colab-df-convert {\n",
       "      background-color: #3B4455;\n",
       "      fill: #D2E3FC;\n",
       "    }\n",
       "\n",
       "    [theme=dark] .colab-df-convert:hover {\n",
       "      background-color: #434B5C;\n",
       "      box-shadow: 0px 1px 3px 1px rgba(0, 0, 0, 0.15);\n",
       "      filter: drop-shadow(0px 1px 2px rgba(0, 0, 0, 0.3));\n",
       "      fill: #FFFFFF;\n",
       "    }\n",
       "  </style>\n",
       "\n",
       "      <script>\n",
       "        const buttonEl =\n",
       "          document.querySelector('#df-24cd9cb2-93ee-4869-98d8-a02b53f91a11 button.colab-df-convert');\n",
       "        buttonEl.style.display =\n",
       "          google.colab.kernel.accessAllowed ? 'block' : 'none';\n",
       "\n",
       "        async function convertToInteractive(key) {\n",
       "          const element = document.querySelector('#df-24cd9cb2-93ee-4869-98d8-a02b53f91a11');\n",
       "          const dataTable =\n",
       "            await google.colab.kernel.invokeFunction('convertToInteractive',\n",
       "                                                     [key], {});\n",
       "          if (!dataTable) return;\n",
       "\n",
       "          const docLinkHtml = 'Like what you see? Visit the ' +\n",
       "            '<a target=\"_blank\" href=https://colab.research.google.com/notebooks/data_table.ipynb>data table notebook</a>'\n",
       "            + ' to learn more about interactive tables.';\n",
       "          element.innerHTML = '';\n",
       "          dataTable['output_type'] = 'display_data';\n",
       "          await google.colab.output.renderOutput(dataTable, element);\n",
       "          const docLink = document.createElement('div');\n",
       "          docLink.innerHTML = docLinkHtml;\n",
       "          element.appendChild(docLink);\n",
       "        }\n",
       "      </script>\n",
       "    </div>\n",
       "  </div>\n",
       "  "
      ],
      "text/plain": [
       "      820   918   199   263   44    1     164   457   245   431   ...  1038  \\\n",
       "0        0     0     0     0     0     0     0     0     0     0  ...     0   \n",
       "1        0     0     0     0     0     0     0     0     0     0  ...     0   \n",
       "2        0     0     0     0     0     0     0     0     0     0  ...     0   \n",
       "3        0     0     0     0     0    -1     0     0     0     0  ...     0   \n",
       "4        0     0     0     0     0     8     0     0     0     0  ...     0   \n",
       "...    ...   ...   ...   ...   ...   ...   ...   ...   ...   ...  ...   ...   \n",
       "7345    -1     0     0     0     0     9     8     0     0     0  ...     0   \n",
       "7346    10     0     0     0     8     0     0     0     0     0  ...     0   \n",
       "7347     0     0     0     0     0     0     0     0     0     0  ...     0   \n",
       "7348     0     0     0     0     0     0     0     0     0     0  ...     0   \n",
       "7349     0     0     0     0     0     0     0     0     0     0  ...     0   \n",
       "\n",
       "      220   736   827   828   755   692   724   977   730   \n",
       "0        0     0     0     0     0     0     0     0     0  \n",
       "1        0     0     0     0     0     0     0     0     0  \n",
       "2        0     0     0     0     0     0     0     0     0  \n",
       "3        0     0     0     0     0     0     0     0     0  \n",
       "4        0     0     0     0     0     0     0     0     0  \n",
       "...    ...   ...   ...   ...   ...   ...   ...   ...   ...  \n",
       "7345     0     0     8     0     0     0     0     0     0  \n",
       "7346     0     0     0     0     0     0     0     0     0  \n",
       "7347     0     0     0     0     0     0     0     0     0  \n",
       "7348     0     0     0     0     0     0     0     0     0  \n",
       "7349     0     0     0     0     0     0     0     0     0  \n",
       "\n",
       "[7350 rows x 1094 columns]"
      ]
     },
     "execution_count": 16,
     "metadata": {},
     "output_type": "execute_result"
    }
   ],
   "source": [
    "X_df"
   ]
  },
  {
   "cell_type": "code",
   "execution_count": 17,
   "metadata": {
    "id": "EQeD5xjfYGSo"
   },
   "outputs": [],
   "source": [
    "TRESHOLD = 0.3"
   ]
  },
  {
   "cell_type": "code",
   "execution_count": 18,
   "metadata": {
    "id": "LNOBV0vvP5Ia"
   },
   "outputs": [],
   "source": [
    "from sklearn.model_selection import train_test_split"
   ]
  },
  {
   "cell_type": "code",
   "execution_count": 19,
   "metadata": {
    "id": "c0iaQh7MP83v"
   },
   "outputs": [],
   "source": [
    "train, test = train_test_split(X_df, test_size = TRESHOLD)"
   ]
  },
  {
   "cell_type": "code",
   "execution_count": 20,
   "metadata": {
    "id": "ROEpeRa37DNl"
   },
   "outputs": [],
   "source": [
    "train_data, test_data = train_test_split(rating_data_sample, test_size = TRESHOLD)"
   ]
  },
  {
   "cell_type": "markdown",
   "metadata": {
    "id": "LX78TCHFdE58"
   },
   "source": [
    "### Задание №4 : Решить задачу на основе предложения всем юзерам наиболее популярных item (1 балл)"
   ]
  },
  {
   "cell_type": "markdown",
   "metadata": {
    "id": "QLKjGP98EQff"
   },
   "source": [
    "Наиболее популярные по числу оценок:"
   ]
  },
  {
   "cell_type": "code",
   "execution_count": 45,
   "metadata": {
    "id": "u69IAm3hG7NF"
   },
   "outputs": [],
   "source": [
    "class NPopularByRatingNumberAnime:\n",
    "    def __init__(self, data):\n",
    "        self.top = data['anime_id'].value_counts().sort_values(ascending = False).index\n",
    "\n",
    "    def predict(self, user_id, top_n):\n",
    "        return list(self.top[:top_n])"
   ]
  },
  {
   "cell_type": "code",
   "execution_count": 46,
   "metadata": {
    "id": "GTPV8xg8Ntp1"
   },
   "outputs": [],
   "source": [
    "n_pop_by_rating_number_anime = NPopularByRatingNumberAnime(rating_without_empty)\n",
    "popular_anime = n_pop_by_rating_number_anime.predict(1, 10)"
   ]
  },
  {
   "cell_type": "code",
   "execution_count": 32,
   "metadata": {
    "colab": {
     "base_uri": "https://localhost:8080/"
    },
    "id": "R7pr4fRkOw8A",
    "outputId": "020fee4a-8cb5-4e45-8b88-7c63dfdae8e8"
   },
   "outputs": [
    {
     "data": {
      "text/plain": [
       "[1535, 11757, 16498, 1575, 6547, 226, 20, 5114, 121, 2904]"
      ]
     },
     "execution_count": 32,
     "metadata": {},
     "output_type": "execute_result"
    }
   ],
   "source": [
    "popular_anime"
   ]
  },
  {
   "cell_type": "code",
   "execution_count": 33,
   "metadata": {
    "colab": {
     "base_uri": "https://localhost:8080/",
     "height": 363
    },
    "id": "KTzyrNo-H--H",
    "outputId": "1a36586d-25a4-4e7b-c991-e6c1b2610713"
   },
   "outputs": [
    {
     "data": {
      "text/html": [
       "\n",
       "  <div id=\"df-b76cef83-d7a6-472f-ad7e-da9b5e525ff0\">\n",
       "    <div class=\"colab-df-container\">\n",
       "      <div>\n",
       "<style scoped>\n",
       "    .dataframe tbody tr th:only-of-type {\n",
       "        vertical-align: middle;\n",
       "    }\n",
       "\n",
       "    .dataframe tbody tr th {\n",
       "        vertical-align: top;\n",
       "    }\n",
       "\n",
       "    .dataframe thead th {\n",
       "        text-align: right;\n",
       "    }\n",
       "</style>\n",
       "<table border=\"1\" class=\"dataframe\">\n",
       "  <thead>\n",
       "    <tr style=\"text-align: right;\">\n",
       "      <th></th>\n",
       "      <th>anime_id</th>\n",
       "      <th>name</th>\n",
       "      <th>genre</th>\n",
       "      <th>type</th>\n",
       "      <th>episodes</th>\n",
       "      <th>rating</th>\n",
       "      <th>members</th>\n",
       "    </tr>\n",
       "  </thead>\n",
       "  <tbody>\n",
       "    <tr>\n",
       "      <th>40</th>\n",
       "      <td>1535</td>\n",
       "      <td>Death Note</td>\n",
       "      <td>Mystery, Police, Psychological, Supernatural, ...</td>\n",
       "      <td>TV</td>\n",
       "      <td>37</td>\n",
       "      <td>8.71</td>\n",
       "      <td>1013917</td>\n",
       "    </tr>\n",
       "    <tr>\n",
       "      <th>804</th>\n",
       "      <td>11757</td>\n",
       "      <td>Sword Art Online</td>\n",
       "      <td>Action, Adventure, Fantasy, Game, Romance</td>\n",
       "      <td>TV</td>\n",
       "      <td>25</td>\n",
       "      <td>7.83</td>\n",
       "      <td>893100</td>\n",
       "    </tr>\n",
       "    <tr>\n",
       "      <th>86</th>\n",
       "      <td>16498</td>\n",
       "      <td>Shingeki no Kyojin</td>\n",
       "      <td>Action, Drama, Fantasy, Shounen, Super Power</td>\n",
       "      <td>TV</td>\n",
       "      <td>25</td>\n",
       "      <td>8.54</td>\n",
       "      <td>896229</td>\n",
       "    </tr>\n",
       "    <tr>\n",
       "      <th>19</th>\n",
       "      <td>1575</td>\n",
       "      <td>Code Geass: Hangyaku no Lelouch</td>\n",
       "      <td>Action, Mecha, Military, School, Sci-Fi, Super...</td>\n",
       "      <td>TV</td>\n",
       "      <td>25</td>\n",
       "      <td>8.83</td>\n",
       "      <td>715151</td>\n",
       "    </tr>\n",
       "    <tr>\n",
       "      <th>159</th>\n",
       "      <td>6547</td>\n",
       "      <td>Angel Beats!</td>\n",
       "      <td>Action, Comedy, Drama, School, Supernatural</td>\n",
       "      <td>TV</td>\n",
       "      <td>13</td>\n",
       "      <td>8.39</td>\n",
       "      <td>717796</td>\n",
       "    </tr>\n",
       "    <tr>\n",
       "      <th>760</th>\n",
       "      <td>226</td>\n",
       "      <td>Elfen Lied</td>\n",
       "      <td>Action, Drama, Horror, Psychological, Romance,...</td>\n",
       "      <td>TV</td>\n",
       "      <td>13</td>\n",
       "      <td>7.85</td>\n",
       "      <td>623511</td>\n",
       "    </tr>\n",
       "    <tr>\n",
       "      <th>841</th>\n",
       "      <td>20</td>\n",
       "      <td>Naruto</td>\n",
       "      <td>Action, Comedy, Martial Arts, Shounen, Super P...</td>\n",
       "      <td>TV</td>\n",
       "      <td>220</td>\n",
       "      <td>7.81</td>\n",
       "      <td>683297</td>\n",
       "    </tr>\n",
       "    <tr>\n",
       "      <th>1</th>\n",
       "      <td>5114</td>\n",
       "      <td>Fullmetal Alchemist: Brotherhood</td>\n",
       "      <td>Action, Adventure, Drama, Fantasy, Magic, Mili...</td>\n",
       "      <td>TV</td>\n",
       "      <td>64</td>\n",
       "      <td>9.26</td>\n",
       "      <td>793665</td>\n",
       "    </tr>\n",
       "    <tr>\n",
       "      <th>200</th>\n",
       "      <td>121</td>\n",
       "      <td>Fullmetal Alchemist</td>\n",
       "      <td>Action, Adventure, Comedy, Drama, Fantasy, Mag...</td>\n",
       "      <td>TV</td>\n",
       "      <td>51</td>\n",
       "      <td>8.33</td>\n",
       "      <td>600384</td>\n",
       "    </tr>\n",
       "    <tr>\n",
       "      <th>13</th>\n",
       "      <td>2904</td>\n",
       "      <td>Code Geass: Hangyaku no Lelouch R2</td>\n",
       "      <td>Action, Drama, Mecha, Military, Sci-Fi, Super ...</td>\n",
       "      <td>TV</td>\n",
       "      <td>25</td>\n",
       "      <td>8.98</td>\n",
       "      <td>572888</td>\n",
       "    </tr>\n",
       "  </tbody>\n",
       "</table>\n",
       "</div>\n",
       "      <button class=\"colab-df-convert\" onclick=\"convertToInteractive('df-b76cef83-d7a6-472f-ad7e-da9b5e525ff0')\"\n",
       "              title=\"Convert this dataframe to an interactive table.\"\n",
       "              style=\"display:none;\">\n",
       "        \n",
       "  <svg xmlns=\"http://www.w3.org/2000/svg\" height=\"24px\"viewBox=\"0 0 24 24\"\n",
       "       width=\"24px\">\n",
       "    <path d=\"M0 0h24v24H0V0z\" fill=\"none\"/>\n",
       "    <path d=\"M18.56 5.44l.94 2.06.94-2.06 2.06-.94-2.06-.94-.94-2.06-.94 2.06-2.06.94zm-11 1L8.5 8.5l.94-2.06 2.06-.94-2.06-.94L8.5 2.5l-.94 2.06-2.06.94zm10 10l.94 2.06.94-2.06 2.06-.94-2.06-.94-.94-2.06-.94 2.06-2.06.94z\"/><path d=\"M17.41 7.96l-1.37-1.37c-.4-.4-.92-.59-1.43-.59-.52 0-1.04.2-1.43.59L10.3 9.45l-7.72 7.72c-.78.78-.78 2.05 0 2.83L4 21.41c.39.39.9.59 1.41.59.51 0 1.02-.2 1.41-.59l7.78-7.78 2.81-2.81c.8-.78.8-2.07 0-2.86zM5.41 20L4 18.59l7.72-7.72 1.47 1.35L5.41 20z\"/>\n",
       "  </svg>\n",
       "      </button>\n",
       "      \n",
       "  <style>\n",
       "    .colab-df-container {\n",
       "      display:flex;\n",
       "      flex-wrap:wrap;\n",
       "      gap: 12px;\n",
       "    }\n",
       "\n",
       "    .colab-df-convert {\n",
       "      background-color: #E8F0FE;\n",
       "      border: none;\n",
       "      border-radius: 50%;\n",
       "      cursor: pointer;\n",
       "      display: none;\n",
       "      fill: #1967D2;\n",
       "      height: 32px;\n",
       "      padding: 0 0 0 0;\n",
       "      width: 32px;\n",
       "    }\n",
       "\n",
       "    .colab-df-convert:hover {\n",
       "      background-color: #E2EBFA;\n",
       "      box-shadow: 0px 1px 2px rgba(60, 64, 67, 0.3), 0px 1px 3px 1px rgba(60, 64, 67, 0.15);\n",
       "      fill: #174EA6;\n",
       "    }\n",
       "\n",
       "    [theme=dark] .colab-df-convert {\n",
       "      background-color: #3B4455;\n",
       "      fill: #D2E3FC;\n",
       "    }\n",
       "\n",
       "    [theme=dark] .colab-df-convert:hover {\n",
       "      background-color: #434B5C;\n",
       "      box-shadow: 0px 1px 3px 1px rgba(0, 0, 0, 0.15);\n",
       "      filter: drop-shadow(0px 1px 2px rgba(0, 0, 0, 0.3));\n",
       "      fill: #FFFFFF;\n",
       "    }\n",
       "  </style>\n",
       "\n",
       "      <script>\n",
       "        const buttonEl =\n",
       "          document.querySelector('#df-b76cef83-d7a6-472f-ad7e-da9b5e525ff0 button.colab-df-convert');\n",
       "        buttonEl.style.display =\n",
       "          google.colab.kernel.accessAllowed ? 'block' : 'none';\n",
       "\n",
       "        async function convertToInteractive(key) {\n",
       "          const element = document.querySelector('#df-b76cef83-d7a6-472f-ad7e-da9b5e525ff0');\n",
       "          const dataTable =\n",
       "            await google.colab.kernel.invokeFunction('convertToInteractive',\n",
       "                                                     [key], {});\n",
       "          if (!dataTable) return;\n",
       "\n",
       "          const docLinkHtml = 'Like what you see? Visit the ' +\n",
       "            '<a target=\"_blank\" href=https://colab.research.google.com/notebooks/data_table.ipynb>data table notebook</a>'\n",
       "            + ' to learn more about interactive tables.';\n",
       "          element.innerHTML = '';\n",
       "          dataTable['output_type'] = 'display_data';\n",
       "          await google.colab.output.renderOutput(dataTable, element);\n",
       "          const docLink = document.createElement('div');\n",
       "          docLink.innerHTML = docLinkHtml;\n",
       "          element.appendChild(docLink);\n",
       "        }\n",
       "      </script>\n",
       "    </div>\n",
       "  </div>\n",
       "  "
      ],
      "text/plain": [
       "    anime_id                                name  \\\n",
       "40      1535                          Death Note   \n",
       "804    11757                    Sword Art Online   \n",
       "86     16498                  Shingeki no Kyojin   \n",
       "19      1575     Code Geass: Hangyaku no Lelouch   \n",
       "159     6547                        Angel Beats!   \n",
       "760      226                          Elfen Lied   \n",
       "841       20                              Naruto   \n",
       "1       5114    Fullmetal Alchemist: Brotherhood   \n",
       "200      121                 Fullmetal Alchemist   \n",
       "13      2904  Code Geass: Hangyaku no Lelouch R2   \n",
       "\n",
       "                                                 genre type episodes  rating  \\\n",
       "40   Mystery, Police, Psychological, Supernatural, ...   TV       37    8.71   \n",
       "804          Action, Adventure, Fantasy, Game, Romance   TV       25    7.83   \n",
       "86        Action, Drama, Fantasy, Shounen, Super Power   TV       25    8.54   \n",
       "19   Action, Mecha, Military, School, Sci-Fi, Super...   TV       25    8.83   \n",
       "159        Action, Comedy, Drama, School, Supernatural   TV       13    8.39   \n",
       "760  Action, Drama, Horror, Psychological, Romance,...   TV       13    7.85   \n",
       "841  Action, Comedy, Martial Arts, Shounen, Super P...   TV      220    7.81   \n",
       "1    Action, Adventure, Drama, Fantasy, Magic, Mili...   TV       64    9.26   \n",
       "200  Action, Adventure, Comedy, Drama, Fantasy, Mag...   TV       51    8.33   \n",
       "13   Action, Drama, Mecha, Military, Sci-Fi, Super ...   TV       25    8.98   \n",
       "\n",
       "     members  \n",
       "40   1013917  \n",
       "804   893100  \n",
       "86    896229  \n",
       "19    715151  \n",
       "159   717796  \n",
       "760   623511  \n",
       "841   683297  \n",
       "1     793665  \n",
       "200   600384  \n",
       "13    572888  "
      ]
     },
     "execution_count": 33,
     "metadata": {},
     "output_type": "execute_result"
    }
   ],
   "source": [
    "anime_data[anime_data['anime_id'].isin(popular_anime)].astype({'anime_id': pd.CategoricalDtype(popular_anime, ordered=True)}).sort_values('anime_id')"
   ]
  },
  {
   "cell_type": "markdown",
   "metadata": {
    "id": "dyx70wIrQIu7"
   },
   "source": [
    "Наиболее популярные по числу взаимодействий (с пустыми отзывами):"
   ]
  },
  {
   "cell_type": "code",
   "execution_count": 34,
   "metadata": {
    "id": "ycg7KpHtQSR3"
   },
   "outputs": [],
   "source": [
    "n_pop_by_rating_number_anime = NPopularByRatingNumberAnime(rating_data)\n",
    "popular_anime = n_pop_by_rating_number_anime.predict(1, 10)"
   ]
  },
  {
   "cell_type": "code",
   "execution_count": 35,
   "metadata": {
    "colab": {
     "base_uri": "https://localhost:8080/",
     "height": 363
    },
    "id": "sw_QzBKoQh9D",
    "outputId": "6944df73-e13f-43ad-f91d-a85a95913a82"
   },
   "outputs": [
    {
     "data": {
      "text/html": [
       "\n",
       "  <div id=\"df-536f761c-c8f9-4c30-a5b0-4f01b595d2a3\">\n",
       "    <div class=\"colab-df-container\">\n",
       "      <div>\n",
       "<style scoped>\n",
       "    .dataframe tbody tr th:only-of-type {\n",
       "        vertical-align: middle;\n",
       "    }\n",
       "\n",
       "    .dataframe tbody tr th {\n",
       "        vertical-align: top;\n",
       "    }\n",
       "\n",
       "    .dataframe thead th {\n",
       "        text-align: right;\n",
       "    }\n",
       "</style>\n",
       "<table border=\"1\" class=\"dataframe\">\n",
       "  <thead>\n",
       "    <tr style=\"text-align: right;\">\n",
       "      <th></th>\n",
       "      <th>anime_id</th>\n",
       "      <th>name</th>\n",
       "      <th>genre</th>\n",
       "      <th>type</th>\n",
       "      <th>episodes</th>\n",
       "      <th>rating</th>\n",
       "      <th>members</th>\n",
       "    </tr>\n",
       "  </thead>\n",
       "  <tbody>\n",
       "    <tr>\n",
       "      <th>40</th>\n",
       "      <td>1535</td>\n",
       "      <td>Death Note</td>\n",
       "      <td>Mystery, Police, Psychological, Supernatural, ...</td>\n",
       "      <td>TV</td>\n",
       "      <td>37</td>\n",
       "      <td>8.71</td>\n",
       "      <td>1013917</td>\n",
       "    </tr>\n",
       "    <tr>\n",
       "      <th>804</th>\n",
       "      <td>11757</td>\n",
       "      <td>Sword Art Online</td>\n",
       "      <td>Action, Adventure, Fantasy, Game, Romance</td>\n",
       "      <td>TV</td>\n",
       "      <td>25</td>\n",
       "      <td>7.83</td>\n",
       "      <td>893100</td>\n",
       "    </tr>\n",
       "    <tr>\n",
       "      <th>86</th>\n",
       "      <td>16498</td>\n",
       "      <td>Shingeki no Kyojin</td>\n",
       "      <td>Action, Drama, Fantasy, Shounen, Super Power</td>\n",
       "      <td>TV</td>\n",
       "      <td>25</td>\n",
       "      <td>8.54</td>\n",
       "      <td>896229</td>\n",
       "    </tr>\n",
       "    <tr>\n",
       "      <th>19</th>\n",
       "      <td>1575</td>\n",
       "      <td>Code Geass: Hangyaku no Lelouch</td>\n",
       "      <td>Action, Mecha, Military, School, Sci-Fi, Super...</td>\n",
       "      <td>TV</td>\n",
       "      <td>25</td>\n",
       "      <td>8.83</td>\n",
       "      <td>715151</td>\n",
       "    </tr>\n",
       "    <tr>\n",
       "      <th>760</th>\n",
       "      <td>226</td>\n",
       "      <td>Elfen Lied</td>\n",
       "      <td>Action, Drama, Horror, Psychological, Romance,...</td>\n",
       "      <td>TV</td>\n",
       "      <td>13</td>\n",
       "      <td>7.85</td>\n",
       "      <td>623511</td>\n",
       "    </tr>\n",
       "    <tr>\n",
       "      <th>159</th>\n",
       "      <td>6547</td>\n",
       "      <td>Angel Beats!</td>\n",
       "      <td>Action, Comedy, Drama, School, Supernatural</td>\n",
       "      <td>TV</td>\n",
       "      <td>13</td>\n",
       "      <td>8.39</td>\n",
       "      <td>717796</td>\n",
       "    </tr>\n",
       "    <tr>\n",
       "      <th>841</th>\n",
       "      <td>20</td>\n",
       "      <td>Naruto</td>\n",
       "      <td>Action, Comedy, Martial Arts, Shounen, Super P...</td>\n",
       "      <td>TV</td>\n",
       "      <td>220</td>\n",
       "      <td>7.81</td>\n",
       "      <td>683297</td>\n",
       "    </tr>\n",
       "    <tr>\n",
       "      <th>200</th>\n",
       "      <td>121</td>\n",
       "      <td>Fullmetal Alchemist</td>\n",
       "      <td>Action, Adventure, Comedy, Drama, Fantasy, Mag...</td>\n",
       "      <td>TV</td>\n",
       "      <td>51</td>\n",
       "      <td>8.33</td>\n",
       "      <td>600384</td>\n",
       "    </tr>\n",
       "    <tr>\n",
       "      <th>1</th>\n",
       "      <td>5114</td>\n",
       "      <td>Fullmetal Alchemist: Brotherhood</td>\n",
       "      <td>Action, Adventure, Drama, Fantasy, Magic, Mili...</td>\n",
       "      <td>TV</td>\n",
       "      <td>64</td>\n",
       "      <td>9.26</td>\n",
       "      <td>793665</td>\n",
       "    </tr>\n",
       "    <tr>\n",
       "      <th>131</th>\n",
       "      <td>4224</td>\n",
       "      <td>Toradora!</td>\n",
       "      <td>Comedy, Romance, School, Slice of Life</td>\n",
       "      <td>TV</td>\n",
       "      <td>25</td>\n",
       "      <td>8.45</td>\n",
       "      <td>633817</td>\n",
       "    </tr>\n",
       "  </tbody>\n",
       "</table>\n",
       "</div>\n",
       "      <button class=\"colab-df-convert\" onclick=\"convertToInteractive('df-536f761c-c8f9-4c30-a5b0-4f01b595d2a3')\"\n",
       "              title=\"Convert this dataframe to an interactive table.\"\n",
       "              style=\"display:none;\">\n",
       "        \n",
       "  <svg xmlns=\"http://www.w3.org/2000/svg\" height=\"24px\"viewBox=\"0 0 24 24\"\n",
       "       width=\"24px\">\n",
       "    <path d=\"M0 0h24v24H0V0z\" fill=\"none\"/>\n",
       "    <path d=\"M18.56 5.44l.94 2.06.94-2.06 2.06-.94-2.06-.94-.94-2.06-.94 2.06-2.06.94zm-11 1L8.5 8.5l.94-2.06 2.06-.94-2.06-.94L8.5 2.5l-.94 2.06-2.06.94zm10 10l.94 2.06.94-2.06 2.06-.94-2.06-.94-.94-2.06-.94 2.06-2.06.94z\"/><path d=\"M17.41 7.96l-1.37-1.37c-.4-.4-.92-.59-1.43-.59-.52 0-1.04.2-1.43.59L10.3 9.45l-7.72 7.72c-.78.78-.78 2.05 0 2.83L4 21.41c.39.39.9.59 1.41.59.51 0 1.02-.2 1.41-.59l7.78-7.78 2.81-2.81c.8-.78.8-2.07 0-2.86zM5.41 20L4 18.59l7.72-7.72 1.47 1.35L5.41 20z\"/>\n",
       "  </svg>\n",
       "      </button>\n",
       "      \n",
       "  <style>\n",
       "    .colab-df-container {\n",
       "      display:flex;\n",
       "      flex-wrap:wrap;\n",
       "      gap: 12px;\n",
       "    }\n",
       "\n",
       "    .colab-df-convert {\n",
       "      background-color: #E8F0FE;\n",
       "      border: none;\n",
       "      border-radius: 50%;\n",
       "      cursor: pointer;\n",
       "      display: none;\n",
       "      fill: #1967D2;\n",
       "      height: 32px;\n",
       "      padding: 0 0 0 0;\n",
       "      width: 32px;\n",
       "    }\n",
       "\n",
       "    .colab-df-convert:hover {\n",
       "      background-color: #E2EBFA;\n",
       "      box-shadow: 0px 1px 2px rgba(60, 64, 67, 0.3), 0px 1px 3px 1px rgba(60, 64, 67, 0.15);\n",
       "      fill: #174EA6;\n",
       "    }\n",
       "\n",
       "    [theme=dark] .colab-df-convert {\n",
       "      background-color: #3B4455;\n",
       "      fill: #D2E3FC;\n",
       "    }\n",
       "\n",
       "    [theme=dark] .colab-df-convert:hover {\n",
       "      background-color: #434B5C;\n",
       "      box-shadow: 0px 1px 3px 1px rgba(0, 0, 0, 0.15);\n",
       "      filter: drop-shadow(0px 1px 2px rgba(0, 0, 0, 0.3));\n",
       "      fill: #FFFFFF;\n",
       "    }\n",
       "  </style>\n",
       "\n",
       "      <script>\n",
       "        const buttonEl =\n",
       "          document.querySelector('#df-536f761c-c8f9-4c30-a5b0-4f01b595d2a3 button.colab-df-convert');\n",
       "        buttonEl.style.display =\n",
       "          google.colab.kernel.accessAllowed ? 'block' : 'none';\n",
       "\n",
       "        async function convertToInteractive(key) {\n",
       "          const element = document.querySelector('#df-536f761c-c8f9-4c30-a5b0-4f01b595d2a3');\n",
       "          const dataTable =\n",
       "            await google.colab.kernel.invokeFunction('convertToInteractive',\n",
       "                                                     [key], {});\n",
       "          if (!dataTable) return;\n",
       "\n",
       "          const docLinkHtml = 'Like what you see? Visit the ' +\n",
       "            '<a target=\"_blank\" href=https://colab.research.google.com/notebooks/data_table.ipynb>data table notebook</a>'\n",
       "            + ' to learn more about interactive tables.';\n",
       "          element.innerHTML = '';\n",
       "          dataTable['output_type'] = 'display_data';\n",
       "          await google.colab.output.renderOutput(dataTable, element);\n",
       "          const docLink = document.createElement('div');\n",
       "          docLink.innerHTML = docLinkHtml;\n",
       "          element.appendChild(docLink);\n",
       "        }\n",
       "      </script>\n",
       "    </div>\n",
       "  </div>\n",
       "  "
      ],
      "text/plain": [
       "    anime_id                              name  \\\n",
       "40      1535                        Death Note   \n",
       "804    11757                  Sword Art Online   \n",
       "86     16498                Shingeki no Kyojin   \n",
       "19      1575   Code Geass: Hangyaku no Lelouch   \n",
       "760      226                        Elfen Lied   \n",
       "159     6547                      Angel Beats!   \n",
       "841       20                            Naruto   \n",
       "200      121               Fullmetal Alchemist   \n",
       "1       5114  Fullmetal Alchemist: Brotherhood   \n",
       "131     4224                         Toradora!   \n",
       "\n",
       "                                                 genre type episodes  rating  \\\n",
       "40   Mystery, Police, Psychological, Supernatural, ...   TV       37    8.71   \n",
       "804          Action, Adventure, Fantasy, Game, Romance   TV       25    7.83   \n",
       "86        Action, Drama, Fantasy, Shounen, Super Power   TV       25    8.54   \n",
       "19   Action, Mecha, Military, School, Sci-Fi, Super...   TV       25    8.83   \n",
       "760  Action, Drama, Horror, Psychological, Romance,...   TV       13    7.85   \n",
       "159        Action, Comedy, Drama, School, Supernatural   TV       13    8.39   \n",
       "841  Action, Comedy, Martial Arts, Shounen, Super P...   TV      220    7.81   \n",
       "200  Action, Adventure, Comedy, Drama, Fantasy, Mag...   TV       51    8.33   \n",
       "1    Action, Adventure, Drama, Fantasy, Magic, Mili...   TV       64    9.26   \n",
       "131             Comedy, Romance, School, Slice of Life   TV       25    8.45   \n",
       "\n",
       "     members  \n",
       "40   1013917  \n",
       "804   893100  \n",
       "86    896229  \n",
       "19    715151  \n",
       "760   623511  \n",
       "159   717796  \n",
       "841   683297  \n",
       "200   600384  \n",
       "1     793665  \n",
       "131   633817  "
      ]
     },
     "execution_count": 35,
     "metadata": {},
     "output_type": "execute_result"
    }
   ],
   "source": [
    "anime_data[anime_data['anime_id'].isin(popular_anime)].astype({'anime_id': pd.CategoricalDtype(popular_anime, ordered=True)}).sort_values('anime_id')"
   ]
  },
  {
   "cell_type": "markdown",
   "metadata": {
    "id": "tgLj04iBQxz0"
   },
   "source": [
    "При сравнении результатов можно увидить, что пустые отзывы влияют  на рейтинг, но не сильно. В топ10 лишь две пары аниме поменяялись местами, и изменился замыкающий фильм."
   ]
  },
  {
   "cell_type": "markdown",
   "metadata": {
    "id": "W8jmqhiwdE59"
   },
   "source": [
    "### Задание №5 : Решить задачу на основе коллоборативной фильтрации (2 балла)\n",
    "\n",
    "* Реализовать один из методов коллоборативной фильтрации SVD, SVD++, ALS, ALS with implicit feedback"
   ]
  },
  {
   "cell_type": "markdown",
   "metadata": {
    "id": "eWKb1xEIyR-4"
   },
   "source": [
    "Использование готовой реализации из библиотеки surprise"
   ]
  },
  {
   "cell_type": "code",
   "execution_count": null,
   "metadata": {
    "colab": {
     "base_uri": "https://localhost:8080/"
    },
    "id": "gEZppioOLw66",
    "outputId": "00d64c98-1d47-4420-f447-515f523292ad"
   },
   "outputs": [
    {
     "name": "stdout",
     "output_type": "stream",
     "text": [
      "Looking in indexes: https://pypi.org/simple, https://us-python.pkg.dev/colab-wheels/public/simple/\n",
      "Collecting surprise\n",
      "  Downloading surprise-0.1-py2.py3-none-any.whl (1.8 kB)\n",
      "Collecting scikit-surprise\n",
      "  Downloading scikit-surprise-1.1.1.tar.gz (11.8 MB)\n",
      "\u001b[K     |████████████████████████████████| 11.8 MB 5.2 MB/s \n",
      "\u001b[?25hRequirement already satisfied: joblib>=0.11 in /usr/local/lib/python3.7/dist-packages (from scikit-surprise->surprise) (1.1.0)\n",
      "Requirement already satisfied: numpy>=1.11.2 in /usr/local/lib/python3.7/dist-packages (from scikit-surprise->surprise) (1.21.6)\n",
      "Requirement already satisfied: scipy>=1.0.0 in /usr/local/lib/python3.7/dist-packages (from scikit-surprise->surprise) (1.4.1)\n",
      "Requirement already satisfied: six>=1.10.0 in /usr/local/lib/python3.7/dist-packages (from scikit-surprise->surprise) (1.15.0)\n",
      "Building wheels for collected packages: scikit-surprise\n",
      "  Building wheel for scikit-surprise (setup.py) ... \u001b[?25l\u001b[?25hdone\n",
      "  Created wheel for scikit-surprise: filename=scikit_surprise-1.1.1-cp37-cp37m-linux_x86_64.whl size=1633715 sha256=9aa315af5cd9c5c59f9ca460f3d4c505347184e818d1dfd633bb602cf2fbcefb\n",
      "  Stored in directory: /root/.cache/pip/wheels/76/44/74/b498c42be47b2406bd27994e16c5188e337c657025ab400c1c\n",
      "Successfully built scikit-surprise\n",
      "Installing collected packages: scikit-surprise, surprise\n",
      "Successfully installed scikit-surprise-1.1.1 surprise-0.1\n"
     ]
    }
   ],
   "source": [
    "!pip install surprise"
   ]
  },
  {
   "cell_type": "code",
   "execution_count": null,
   "metadata": {
    "id": "nbdXvaBsLzkp"
   },
   "outputs": [],
   "source": [
    "from surprise import BaselineOnly\n",
    "from surprise import Dataset\n",
    "from surprise import Reader\n",
    "from surprise.model_selection import cross_validate\n",
    "from surprise import SVD\n",
    "import os"
   ]
  },
  {
   "cell_type": "code",
   "execution_count": null,
   "metadata": {
    "id": "2OZdxHTMLhB5"
   },
   "outputs": [],
   "source": [
    "class SVDSurpriseAnimePredictor:\n",
    "    def __init__(self, random_state=0, n_factors=10, n_epochs=30):\n",
    "        self.svd = SVD(random_state=random_state, n_factors=n_factors, n_epochs=n_epochs)\n",
    "        self.item_ids = None\n",
    "    \n",
    "    def fit(self, train_data):\n",
    "        self.item_ids = list(train_data['anime_id'].unique())\n",
    "        train_sup = Dataset.load_from_df(train_data, reader=Reader(line_format='user item rating'))\n",
    "        train_sup = train_sup.build_full_trainset()\n",
    "        self.svd.fit(train_sup)\n",
    "\n",
    "    def predict(self, user_id, top_n=10):\n",
    "        predictions = [[item_id, self.svd.predict(user_id, item_id, clip = False).est] for item_id in self.item_ids]\n",
    "\n",
    "        predictions = list(sorted(predictions, key = lambda x: x[1], reverse = True))\n",
    "        return [x[0] for x in predictions]\n",
    "\n",
    "    def predict_score(self, user_id, item_id):\n",
    "        return self.svd.predict(user_id, item_id, clip = False).est"
   ]
  },
  {
   "cell_type": "code",
   "execution_count": null,
   "metadata": {
    "id": "VYBnSMOrMHrf"
   },
   "outputs": [],
   "source": [
    "svdSurprise = SVDSurpriseAnimePredictor()\n",
    "svdSurprise.fit(train_data)"
   ]
  },
  {
   "cell_type": "code",
   "execution_count": null,
   "metadata": {
    "colab": {
     "base_uri": "https://localhost:8080/"
    },
    "id": "yhUklVLAO-iJ",
    "outputId": "c9be0fb8-d947-4cd9-d721-e868217a056b"
   },
   "outputs": [
    {
     "data": {
      "text/plain": [
       "[19, 781, 223, 578, 813, 523, 777, 263, 15, 918]"
      ]
     },
     "execution_count": 200,
     "metadata": {},
     "output_type": "execute_result"
    }
   ],
   "source": [
    "svdSurprise.predict(3, 10)"
   ]
  },
  {
   "cell_type": "markdown",
   "metadata": {
    "id": "s1BgGvdRQR26"
   },
   "source": [
    "Самостоятельное использование SVD."
   ]
  },
  {
   "cell_type": "markdown",
   "metadata": {
    "id": "AUBqKPqXCOEl"
   },
   "source": [
    "**U** - признаки (факторы) пользователей.\n",
    "\n",
    "**V** - признаки аниме.\n",
    "\n",
    "**D** - вспомогательная матрица."
   ]
  },
  {
   "cell_type": "markdown",
   "metadata": {
    "id": "XWK1gtT_CmAw"
   },
   "source": [
    "Для получения предсказанной оценки по аниме J для пользователя I достаточно скалярно перемножить\n",
    "U[I] * V[J]"
   ]
  },
  {
   "cell_type": "code",
   "execution_count": null,
   "metadata": {
    "id": "1lqRtN5CtgWi"
   },
   "outputs": [],
   "source": [
    "from numpy.linalg import svd"
   ]
  },
  {
   "cell_type": "code",
   "execution_count": null,
   "metadata": {
    "id": "96PlM9B8qFkH"
   },
   "outputs": [],
   "source": [
    "class SVDAnimePreditor:\n",
    "    def __init__(self):\n",
    "        self.data_SVD = None\n",
    "        self.data = None\n",
    "\n",
    "    def fit(self, data, k=10):\n",
    "        self.data = data\n",
    "        u, d, v = svd(self.data.values)\n",
    "        U = u[:, :k]\n",
    "        D = np.diag(d)[:k, :k]\n",
    "        V = v[:k, :]\n",
    "        self.data_SVD = np.dot(np.dot(U, D), V)\n",
    "\n",
    "    def predict(self, user_id, top_n=10):\n",
    "        index = np.argsort(self.data_SVD[user_id - 1])[::-1]\n",
    "        return self.data.columns[index]\n",
    "\n",
    "    def predict_score(self, user_id, item_id):\n",
    "        return self.data_SVD[user_id - 1][self.data.columns.get_loc(item_id)]"
   ]
  },
  {
   "cell_type": "code",
   "execution_count": null,
   "metadata": {
    "id": "4MQl15troTwn"
   },
   "outputs": [],
   "source": [
    "svd_anime = SVDAnimePreditor()\n",
    "svd_anime.fit(X_df, k=500)"
   ]
  },
  {
   "cell_type": "markdown",
   "metadata": {
    "id": "LFppc_bRdE6D"
   },
   "source": [
    "### Задание №6 Решить задачу на основе контент-based подхода, выбрав один из методов решения (2 балла):\n",
    "\n",
    "* На основание векторов с факторизационной матрицы\n",
    "* При помощи \"ембеддингов\"  item'ов"
   ]
  },
  {
   "cell_type": "code",
   "execution_count": 36,
   "metadata": {
    "id": "6L_qdEQ6_Yks"
   },
   "outputs": [],
   "source": [
    "from gensim.models import Word2Vec"
   ]
  },
  {
   "cell_type": "markdown",
   "metadata": {
    "id": "ByFP_8OJewIK"
   },
   "source": [
    "Конвертация anime_id в строки:"
   ]
  },
  {
   "cell_type": "code",
   "execution_count": 37,
   "metadata": {
    "id": "mIn5eYm5e2ul"
   },
   "outputs": [],
   "source": [
    "rating_data['anime_id'] = rating_data['anime_id'].astype(str)"
   ]
  },
  {
   "cell_type": "code",
   "execution_count": 38,
   "metadata": {
    "id": "4wB19tsjhPWQ"
   },
   "outputs": [],
   "source": [
    "prior_anime = rating_data.groupby('user_id').apply(lambda x: x['anime_id'].tolist())"
   ]
  },
  {
   "cell_type": "code",
   "execution_count": 39,
   "metadata": {
    "colab": {
     "base_uri": "https://localhost:8080/"
    },
    "id": "1FkyhpeZhmjw",
    "outputId": "ec1a8900-7972-43e6-8bc3-14b96c5e9dff"
   },
   "outputs": [
    {
     "data": {
      "text/plain": [
       "user_id\n",
       "1        [20, 24, 79, 226, 241, 355, 356, 442, 487, 846...\n",
       "2                                    [11771, 12189, 16417]\n",
       "3        [20, 154, 170, 199, 225, 341, 430, 527, 552, 8...\n",
       "4        [6, 72, 121, 150, 166, 205, 226, 857, 1292, 14...\n",
       "5        [6, 15, 17, 18, 20, 22, 24, 30, 45, 47, 57, 63...\n",
       "                               ...                        \n",
       "73512    [60, 98, 101, 120, 199, 226, 339, 355, 552, 65...\n",
       "73513    [1, 5, 71, 101, 164, 180, 181, 195, 196, 199, ...\n",
       "73514                                                [512]\n",
       "73515    [1, 5, 6, 19, 27, 30, 33, 57, 67, 71, 72, 73, ...\n",
       "73516                                          [790, 8074]\n",
       "Length: 73515, dtype: object"
      ]
     },
     "execution_count": 39,
     "metadata": {},
     "output_type": "execute_result"
    }
   ],
   "source": [
    "prior_anime"
   ]
  },
  {
   "cell_type": "code",
   "execution_count": 40,
   "metadata": {
    "id": "OplRhhzphwpP"
   },
   "outputs": [],
   "source": [
    "max_user_length = max(map(len, prior_anime))"
   ]
  },
  {
   "cell_type": "code",
   "execution_count": 41,
   "metadata": {
    "id": "-grwS6hEh0ON"
   },
   "outputs": [],
   "source": [
    "w2v_model = Word2Vec(\n",
    "    prior_anime.values,\n",
    "    size=100,\n",
    "    window=max_user_length,\n",
    "    min_count=2)"
   ]
  },
  {
   "cell_type": "code",
   "execution_count": 42,
   "metadata": {
    "id": "dcZ0wdS7kA3e"
   },
   "outputs": [],
   "source": [
    "def get_user_product_table(\n",
    "    df_anime: pd.DataFrame,\n",
    "    df_rating: pd.DataFrame):\n",
    "  user_item_df = rating_data # pd.merge(df_anime, df_rating, how='left', on=[\"anime_id\"])\n",
    "  user_item_df.drop_duplicates(inplace=True, ignore_index=True)\n",
    "\n",
    "  product_counts = user_item_df[['user_id', 'anime_id']].value_counts()\n",
    "  product_counts.name = 'frequency'\n",
    "  user_activeness = user_item_df.groupby('user_id')['anime_id'].nunique()\n",
    "  user_activeness.name = 'frequency'\n",
    "  ratings_table = product_counts.divide(user_activeness, axis='index').reset_index()\n",
    "  \n",
    "  return ratings_table"
   ]
  },
  {
   "cell_type": "code",
   "execution_count": 43,
   "metadata": {
    "colab": {
     "base_uri": "https://localhost:8080/",
     "height": 206
    },
    "id": "45WgfbbMn_BI",
    "outputId": "b50d1695-cf0d-4f03-900b-b6aae02edf99"
   },
   "outputs": [
    {
     "data": {
      "text/html": [
       "\n",
       "  <div id=\"df-2df66fd2-d7cd-486c-ba66-e0b08238ec78\">\n",
       "    <div class=\"colab-df-container\">\n",
       "      <div>\n",
       "<style scoped>\n",
       "    .dataframe tbody tr th:only-of-type {\n",
       "        vertical-align: middle;\n",
       "    }\n",
       "\n",
       "    .dataframe tbody tr th {\n",
       "        vertical-align: top;\n",
       "    }\n",
       "\n",
       "    .dataframe thead th {\n",
       "        text-align: right;\n",
       "    }\n",
       "</style>\n",
       "<table border=\"1\" class=\"dataframe\">\n",
       "  <thead>\n",
       "    <tr style=\"text-align: right;\">\n",
       "      <th></th>\n",
       "      <th>user_id</th>\n",
       "      <th>anime_id</th>\n",
       "      <th>frequency</th>\n",
       "    </tr>\n",
       "  </thead>\n",
       "  <tbody>\n",
       "    <tr>\n",
       "      <th>0</th>\n",
       "      <td>42653</td>\n",
       "      <td>20507</td>\n",
       "      <td>0.02381</td>\n",
       "    </tr>\n",
       "    <tr>\n",
       "      <th>1</th>\n",
       "      <td>42653</td>\n",
       "      <td>22319</td>\n",
       "      <td>0.02381</td>\n",
       "    </tr>\n",
       "    <tr>\n",
       "      <th>2</th>\n",
       "      <td>42653</td>\n",
       "      <td>23283</td>\n",
       "      <td>0.02381</td>\n",
       "    </tr>\n",
       "    <tr>\n",
       "      <th>3</th>\n",
       "      <td>42653</td>\n",
       "      <td>1575</td>\n",
       "      <td>0.02381</td>\n",
       "    </tr>\n",
       "    <tr>\n",
       "      <th>4</th>\n",
       "      <td>42653</td>\n",
       "      <td>2001</td>\n",
       "      <td>0.02381</td>\n",
       "    </tr>\n",
       "  </tbody>\n",
       "</table>\n",
       "</div>\n",
       "      <button class=\"colab-df-convert\" onclick=\"convertToInteractive('df-2df66fd2-d7cd-486c-ba66-e0b08238ec78')\"\n",
       "              title=\"Convert this dataframe to an interactive table.\"\n",
       "              style=\"display:none;\">\n",
       "        \n",
       "  <svg xmlns=\"http://www.w3.org/2000/svg\" height=\"24px\"viewBox=\"0 0 24 24\"\n",
       "       width=\"24px\">\n",
       "    <path d=\"M0 0h24v24H0V0z\" fill=\"none\"/>\n",
       "    <path d=\"M18.56 5.44l.94 2.06.94-2.06 2.06-.94-2.06-.94-.94-2.06-.94 2.06-2.06.94zm-11 1L8.5 8.5l.94-2.06 2.06-.94-2.06-.94L8.5 2.5l-.94 2.06-2.06.94zm10 10l.94 2.06.94-2.06 2.06-.94-2.06-.94-.94-2.06-.94 2.06-2.06.94z\"/><path d=\"M17.41 7.96l-1.37-1.37c-.4-.4-.92-.59-1.43-.59-.52 0-1.04.2-1.43.59L10.3 9.45l-7.72 7.72c-.78.78-.78 2.05 0 2.83L4 21.41c.39.39.9.59 1.41.59.51 0 1.02-.2 1.41-.59l7.78-7.78 2.81-2.81c.8-.78.8-2.07 0-2.86zM5.41 20L4 18.59l7.72-7.72 1.47 1.35L5.41 20z\"/>\n",
       "  </svg>\n",
       "      </button>\n",
       "      \n",
       "  <style>\n",
       "    .colab-df-container {\n",
       "      display:flex;\n",
       "      flex-wrap:wrap;\n",
       "      gap: 12px;\n",
       "    }\n",
       "\n",
       "    .colab-df-convert {\n",
       "      background-color: #E8F0FE;\n",
       "      border: none;\n",
       "      border-radius: 50%;\n",
       "      cursor: pointer;\n",
       "      display: none;\n",
       "      fill: #1967D2;\n",
       "      height: 32px;\n",
       "      padding: 0 0 0 0;\n",
       "      width: 32px;\n",
       "    }\n",
       "\n",
       "    .colab-df-convert:hover {\n",
       "      background-color: #E2EBFA;\n",
       "      box-shadow: 0px 1px 2px rgba(60, 64, 67, 0.3), 0px 1px 3px 1px rgba(60, 64, 67, 0.15);\n",
       "      fill: #174EA6;\n",
       "    }\n",
       "\n",
       "    [theme=dark] .colab-df-convert {\n",
       "      background-color: #3B4455;\n",
       "      fill: #D2E3FC;\n",
       "    }\n",
       "\n",
       "    [theme=dark] .colab-df-convert:hover {\n",
       "      background-color: #434B5C;\n",
       "      box-shadow: 0px 1px 3px 1px rgba(0, 0, 0, 0.15);\n",
       "      filter: drop-shadow(0px 1px 2px rgba(0, 0, 0, 0.3));\n",
       "      fill: #FFFFFF;\n",
       "    }\n",
       "  </style>\n",
       "\n",
       "      <script>\n",
       "        const buttonEl =\n",
       "          document.querySelector('#df-2df66fd2-d7cd-486c-ba66-e0b08238ec78 button.colab-df-convert');\n",
       "        buttonEl.style.display =\n",
       "          google.colab.kernel.accessAllowed ? 'block' : 'none';\n",
       "\n",
       "        async function convertToInteractive(key) {\n",
       "          const element = document.querySelector('#df-2df66fd2-d7cd-486c-ba66-e0b08238ec78');\n",
       "          const dataTable =\n",
       "            await google.colab.kernel.invokeFunction('convertToInteractive',\n",
       "                                                     [key], {});\n",
       "          if (!dataTable) return;\n",
       "\n",
       "          const docLinkHtml = 'Like what you see? Visit the ' +\n",
       "            '<a target=\"_blank\" href=https://colab.research.google.com/notebooks/data_table.ipynb>data table notebook</a>'\n",
       "            + ' to learn more about interactive tables.';\n",
       "          element.innerHTML = '';\n",
       "          dataTable['output_type'] = 'display_data';\n",
       "          await google.colab.output.renderOutput(dataTable, element);\n",
       "          const docLink = document.createElement('div');\n",
       "          docLink.innerHTML = docLinkHtml;\n",
       "          element.appendChild(docLink);\n",
       "        }\n",
       "      </script>\n",
       "    </div>\n",
       "  </div>\n",
       "  "
      ],
      "text/plain": [
       "   user_id anime_id  frequency\n",
       "0    42653    20507    0.02381\n",
       "1    42653    22319    0.02381\n",
       "2    42653    23283    0.02381\n",
       "3    42653     1575    0.02381\n",
       "4    42653     2001    0.02381"
      ]
     },
     "execution_count": 43,
     "metadata": {},
     "output_type": "execute_result"
    }
   ],
   "source": [
    "ratings_table = get_user_product_table(anime_data, rating_data)\n",
    "\n",
    "ratings_table.head()"
   ]
  },
  {
   "cell_type": "code",
   "execution_count": 44,
   "metadata": {
    "id": "3Y2HI8ivloP0"
   },
   "outputs": [],
   "source": [
    "def get_recommendations(\n",
    "    user_id: int,\n",
    "    ratings_table: pd.DataFrame,\n",
    "    favorite_length: int = 10):\n",
    "      user_ratings = ratings_table[ratings_table['user_id'] == user_id]\n",
    "      users_top = user_ratings.sort_values('frequency', ascending=False)[:favorite_length]\n",
    "      # print(users_top['anime_id'].astype(str).tolist())\n",
    "      similar_products = w2v_model.wv.most_similar(\n",
    "      positive=users_top['anime_id'].astype(str).tolist(),\n",
    "      topn=10)\n",
    "      recommendations = [int(product[0]) for product in similar_products]\n",
    "      return recommendations"
   ]
  },
  {
   "cell_type": "markdown",
   "metadata": {
    "id": "XmWhAehidE6G"
   },
   "source": [
    "### Задание №7 Оценить работу алгоритмов выбрав одну из метрик, сделать вывод по результатам работы (2 балла):\n",
    "\n",
    "* MAP@k\n",
    "* NDCG@k\n",
    "* MRR"
   ]
  },
  {
   "cell_type": "markdown",
   "metadata": {
    "id": "7fx1fYRUyts8"
   },
   "source": [
    "Оценка \"ембеддингов\" item'ов"
   ]
  },
  {
   "cell_type": "code",
   "execution_count": 47,
   "metadata": {
    "colab": {
     "base_uri": "https://localhost:8080/"
    },
    "id": "Othv-gdglEGW",
    "outputId": "2470f75c-c613-4c15-f859-4528289f9b26"
   },
   "outputs": [
    {
     "data": {
      "text/plain": [
       "user_id\n",
       "1                                  [442, 24, 226, 355]\n",
       "3                                     [199, 813, 1132]\n",
       "4                                                [121]\n",
       "5    [905, 874, 68, 918, 914, 24, 263, 205, 166, 19...\n",
       "6                                                 [20]\n",
       "Name: anime_id, dtype: object"
      ]
     },
     "execution_count": 47,
     "metadata": {},
     "output_type": "execute_result"
    }
   ],
   "source": [
    "ground_truth = test_data.groupby('user_id')['anime_id'].agg(list)\n",
    "\n",
    "ground_truth.head()"
   ]
  },
  {
   "cell_type": "code",
   "execution_count": 48,
   "metadata": {
    "id": "bFdAGyBQlTI1"
   },
   "outputs": [],
   "source": [
    "test_users = ground_truth.index.to_numpy()\n",
    "\n",
    "test_users_subsample = ratings_table.loc[ratings_table['user_id'].isin(test_users), 'user_id'].value_counts().index[:1000]"
   ]
  },
  {
   "cell_type": "code",
   "execution_count": 49,
   "metadata": {
    "id": "Bvv5U_vhlX-m"
   },
   "outputs": [],
   "source": [
    "prediction = {user: get_recommendations(user, ratings_table) for user in test_users_subsample}"
   ]
  },
  {
   "cell_type": "code",
   "execution_count": 50,
   "metadata": {
    "colab": {
     "base_uri": "https://localhost:8080/"
    },
    "id": "mvUa3BFyo_72",
    "outputId": "8998136e-2de2-4a46-9924-39178773508d"
   },
   "outputs": [
    {
     "data": {
      "text/plain": [
       "user_id\n",
       "7345    [18099, 32954, 1116, 9940, 9523, 33192, 1738, ...\n",
       "1530    [17345, 16119, 15545, 4561, 12191, 7158, 7333,...\n",
       "5705    [1765, 10207, 2102, 212, 2524, 1144, 28351, 17...\n",
       "2951    [20987, 18639, 21427, 9100, 26183, 21851, 1368...\n",
       "5831    [5773, 2642, 2639, 2636, 4575, 5543, 9172, 418...\n",
       "Name: prediction, dtype: object"
      ]
     },
     "execution_count": 50,
     "metadata": {},
     "output_type": "execute_result"
    }
   ],
   "source": [
    "prediction = pd.Series(prediction)\n",
    "prediction.index.name = 'user_id'\n",
    "prediction.name = 'prediction'\n",
    "prediction.head()"
   ]
  },
  {
   "cell_type": "code",
   "execution_count": 51,
   "metadata": {
    "id": "_ADTGUTm-mPe"
   },
   "outputs": [],
   "source": [
    "def AP_k(y_true, y_pred, k=10):\n",
    "    \n",
    "    # Look if each of first k predicted items are included in the fact:\n",
    "    hits = np.in1d(y_pred[:k], y_true)\n",
    "    \n",
    "    # Calculate precision at i for i = 1..k only for ranks included in the fact:\n",
    "    p_k_list = [hits[:i].sum() / i for i in range(1, len(hits) + 1) if hits[i - 1]]\n",
    "    \n",
    "    # Return mean of calculated precisions:\n",
    "    if p_k_list != []:\n",
    "        return np.mean(p_k_list)\n",
    "    else:\n",
    "        return 0\n",
    "\n",
    "def MAP_k(y_true, y_pred, k=10, weights=None):\n",
    "    \n",
    "    # Calculate average precision at k for each fact-prediction pair:\n",
    "    ap_k_list = [AP_k(fact, pred, k) for fact, pred in zip(y_true, y_pred)]\n",
    "    \n",
    "    # Return mean of all calculated AP@k values (weighted mean is also possible):\n",
    "    return np.average(ap_k_list, weights=weights)"
   ]
  },
  {
   "cell_type": "code",
   "execution_count": 52,
   "metadata": {
    "id": "Bot5OWIJpOPP"
   },
   "outputs": [],
   "source": [
    "def mean_NDCG_k(\n",
    "        y_true: np.ndarray,\n",
    "        y_pred: np.ndarray,\n",
    "        k: int = 10,\n",
    "        weights: np.ndarray = None):\n",
    "    \"\"\"\n",
    "    Calculate mean normalized discounted cumulative gain at k (mean NDCG@k).\n",
    "\n",
    "    Parameters\n",
    "    ----------\n",
    "    y_true : array-like of shape (n_samples,)\n",
    "        Ground truth (correct) target values.\n",
    "\n",
    "    y_pred : array-like of shape (n_samples,)\n",
    "        Estimated target values.\n",
    "\n",
    "    k : int, default=10\n",
    "        Maximum number of recommendations to take into account.\n",
    "\n",
    "    weights : array_like of shape (n_samples,), optional\n",
    "        An array of weights associated with observations. If weights=None,\n",
    "        then all observations are assumed to have a weight equal to one.\n",
    "\n",
    "    Returns\n",
    "    -------\n",
    "    score : float\n",
    "        A non-negative floating point value (the best value is 1.0).\n",
    "    \"\"\"\n",
    "\n",
    "    def _NDCG_k(fact, pred):\n",
    "        # Look if each of first k predicted items are included in the fact:\n",
    "        hits = np.in1d(pred[:k], fact)\n",
    "        # Calculate discounted cumulative gain at i for i = 1..k:\n",
    "        dcg_k_list = [(2 ** hits[i] - 1) / np.log2(i + 2) for i in range(len(hits))]\n",
    "        # Calculate ideal DCG@k:\n",
    "        idcg_k_list = [1 / np.log2(i + 1) for i in range(1, len(hits) + 1)]\n",
    "        # Return the relation of calculated value to ideal one:\n",
    "        return np.sum(dcg_k_list) / np.sum(idcg_k_list)\n",
    "\n",
    "    # Calculate normalized discounted cumulative gain at k for each fact-prediction pair:\n",
    "    ndcg_k_list = [_NDCG_k(fact, pred) for fact, pred in zip(y_true, y_pred)]\n",
    "    # Return mean of all calculated NDCG@k values (weighted mean is also possible):\n",
    "    return np.average(ndcg_k_list, weights=weights)"
   ]
  },
  {
   "cell_type": "code",
   "execution_count": 53,
   "metadata": {
    "id": "EScOQhSbpSWn"
   },
   "outputs": [],
   "source": [
    "def print_scores(y_true, y_pred, k=10, weights=None):\n",
    "    # print('HitRate@k = {:.5f}'.format(HitRate_k(y_true, y_pred, k)))\n",
    "    print('MAP@k = {:.5f}'.format(MAP_k(y_true, y_pred, k, weights)))\n",
    "    print('NDCG@k = {:.5f}'.format(mean_NDCG_k(y_true, y_pred, k, weights)))"
   ]
  },
  {
   "cell_type": "code",
   "execution_count": 54,
   "metadata": {
    "colab": {
     "base_uri": "https://localhost:8080/"
    },
    "id": "uXoz_YlJqOhQ",
    "outputId": "02359b1c-cfb4-463b-bd50-46603ed2b025"
   },
   "outputs": [
    {
     "name": "stdout",
     "output_type": "stream",
     "text": [
      "MAP@k = 0.03644\n",
      "NDCG@k = 0.01434\n"
     ]
    }
   ],
   "source": [
    "print_scores(ground_truth.loc[test_users_subsample].sort_index(), prediction.sort_index(), k=10)"
   ]
  },
  {
   "cell_type": "markdown",
   "metadata": {
    "id": "q30NpDY4zHHY"
   },
   "source": [
    "Оценка SVD из библиотеки Surprise"
   ]
  },
  {
   "cell_type": "code",
   "execution_count": null,
   "metadata": {
    "id": "Lk3fSJiC39Rn"
   },
   "outputs": [],
   "source": [
    "prediction_svd = {user: svdSurprise.predict(user_id=user) for user in test_users_subsample}"
   ]
  },
  {
   "cell_type": "code",
   "execution_count": null,
   "metadata": {
    "colab": {
     "base_uri": "https://localhost:8080/"
    },
    "id": "E0LsuNh44few",
    "outputId": "ded2cc64-d7ad-42e5-e70f-b4d27b550f7b"
   },
   "outputs": [
    {
     "data": {
      "text/plain": [
       "user_id\n",
       "7345    [918, 43, 578, 199, 820, 44, 19, 205, 57, 801,...\n",
       "1530    [372, 269, 813, 355, 15, 514, 601, 528, 1195, ...\n",
       "5705    [820, 399, 398, 1124, 890, 851, 1182, 296, 290...\n",
       "2951    [226, 934, 918, 187, 846, 813, 18, 160, 57, 85...\n",
       "5831    [120, 530, 355, 790, 22, 81, 918, 861, 26, 185...\n",
       "Name: prediction, dtype: object"
      ]
     },
     "execution_count": 57,
     "metadata": {},
     "output_type": "execute_result"
    }
   ],
   "source": [
    "prediction_svd = pd.Series(prediction_svd)\n",
    "prediction_svd.index.name = 'user_id'\n",
    "prediction_svd.name = 'prediction'\n",
    "prediction_svd.head()"
   ]
  },
  {
   "cell_type": "code",
   "execution_count": null,
   "metadata": {
    "colab": {
     "base_uri": "https://localhost:8080/"
    },
    "id": "bDMpIkJcquS6",
    "outputId": "c9858844-574c-44c1-83db-80b8fbf0c295"
   },
   "outputs": [
    {
     "name": "stdout",
     "output_type": "stream",
     "text": [
      "MAP@k = 0.18055\n",
      "NDCG@k = 0.08331\n"
     ]
    }
   ],
   "source": [
    "print_scores(ground_truth.loc[test_users_subsample].sort_index(), prediction_svd.sort_index(), k=10)"
   ]
  },
  {
   "cell_type": "markdown",
   "metadata": {
    "id": "4EfieGBBzNrb"
   },
   "source": [
    "Оценка собственного SVD"
   ]
  },
  {
   "cell_type": "code",
   "execution_count": null,
   "metadata": {
    "id": "M-9grqQIuavs"
   },
   "outputs": [],
   "source": [
    "prediction_svd = {user: svd_anime.predict(user_id=user) for user in test_users_subsample}"
   ]
  },
  {
   "cell_type": "code",
   "execution_count": null,
   "metadata": {
    "colab": {
     "base_uri": "https://localhost:8080/"
    },
    "id": "g9CEGswtujfF",
    "outputId": "bdca4899-e9eb-4728-95a4-e7287a1b6903"
   },
   "outputs": [
    {
     "data": {
      "text/plain": [
       "user_id\n",
       "7345    Int64Index([ 133,  462,  558,  279,  170,  136...\n",
       "1530    Int64Index([   5, 1016,  330,  133,  857,    6...\n",
       "5705    Int64Index([ 693,  368, 1002,  978,  181,  599...\n",
       "2951    Int64Index([ 321,  154,  152,  459,  962,   76...\n",
       "5831    Int64Index([ 317, 1097, 1154,  512,  247,  795...\n",
       "Name: prediction, dtype: object"
      ]
     },
     "execution_count": 90,
     "metadata": {},
     "output_type": "execute_result"
    }
   ],
   "source": [
    "prediction_svd = pd.Series(prediction_svd)\n",
    "prediction_svd.index.name = 'user_id'\n",
    "prediction_svd.name = 'prediction'\n",
    "prediction_svd.head()"
   ]
  },
  {
   "cell_type": "code",
   "execution_count": null,
   "metadata": {
    "colab": {
     "base_uri": "https://localhost:8080/"
    },
    "id": "3_iMjiIQumaH",
    "outputId": "d4c29fdd-fc6c-431e-d610-feb3dea8fea4"
   },
   "outputs": [
    {
     "name": "stdout",
     "output_type": "stream",
     "text": [
      "MAP@k = 0.08297\n",
      "NDCG@k = 0.03240\n"
     ]
    }
   ],
   "source": [
    "print_scores(ground_truth.loc[test_users_subsample].sort_index(), prediction_svd.sort_index(), k=10)"
   ]
  },
  {
   "cell_type": "markdown",
   "metadata": {
    "id": "o0lOQtm1DGXU"
   },
   "source": [
    "Оценка модели предлогающая всем юзерам наиболее популярные item"
   ]
  },
  {
   "cell_type": "code",
   "execution_count": 56,
   "metadata": {
    "id": "7ChbZMptEI_N"
   },
   "outputs": [],
   "source": [
    "prediction_popular_by_rating = {user: n_pop_by_rating_number_anime.predict(user_id=user, top_n=10) for user in test_users_subsample}"
   ]
  },
  {
   "cell_type": "code",
   "execution_count": 57,
   "metadata": {
    "colab": {
     "base_uri": "https://localhost:8080/"
    },
    "id": "--DBRi60EVN2",
    "outputId": "2ba73067-58fd-469a-9b22-205cfce71edb"
   },
   "outputs": [
    {
     "data": {
      "text/plain": [
       "user_id\n",
       "7345    [1535, 11757, 16498, 1575, 6547, 226, 20, 5114...\n",
       "1530    [1535, 11757, 16498, 1575, 6547, 226, 20, 5114...\n",
       "5705    [1535, 11757, 16498, 1575, 6547, 226, 20, 5114...\n",
       "2951    [1535, 11757, 16498, 1575, 6547, 226, 20, 5114...\n",
       "5831    [1535, 11757, 16498, 1575, 6547, 226, 20, 5114...\n",
       "Name: prediction, dtype: object"
      ]
     },
     "execution_count": 57,
     "metadata": {},
     "output_type": "execute_result"
    }
   ],
   "source": [
    "prediction_popular_by_rating = pd.Series(prediction_popular_by_rating)\n",
    "prediction_popular_by_rating.index.name = 'user_id'\n",
    "prediction_popular_by_rating.name = 'prediction'\n",
    "prediction_popular_by_rating.head()"
   ]
  },
  {
   "cell_type": "code",
   "execution_count": 58,
   "metadata": {
    "colab": {
     "base_uri": "https://localhost:8080/"
    },
    "id": "E45KQ7OvGl32",
    "outputId": "2df834a8-6584-4d46-acb8-d180c78080e7"
   },
   "outputs": [
    {
     "name": "stdout",
     "output_type": "stream",
     "text": [
      "MAP@k = 0.07765\n",
      "NDCG@k = 0.04538\n"
     ]
    }
   ],
   "source": [
    "print_scores(ground_truth.loc[test_users_subsample].sort_index(), prediction_popular_by_rating.sort_index(), k=10)"
   ]
  },
  {
   "cell_type": "markdown",
   "metadata": {
    "id": "5MaEeJvTzYUz"
   },
   "source": [
    "### Выводы:\n",
    "Сравнив алгоритмы можно сделать вывод, что наилучшим образом показали себя  модели c svd из библиотеки Surprise. Модель дающая на выходе наиболее рейтинговые фильмы разместался посередине, далее идет предсказываение с использованием эмбеддингов айтемов, а использование собственного SVD дало наихудший результат."
   ]
  }
 ],
 "metadata": {
  "colab": {
   "name": "Lab2",
   "provenance": []
  },
  "kernelspec": {
   "display_name": "Python 3 (ipykernel)",
   "language": "python",
   "name": "python3"
  },
  "language_info": {
   "codemirror_mode": {
    "name": "ipython",
    "version": 3
   },
   "file_extension": ".py",
   "mimetype": "text/x-python",
   "name": "python",
   "nbconvert_exporter": "python",
   "pygments_lexer": "ipython3",
   "version": "3.9.7"
  }
 },
 "nbformat": 4,
 "nbformat_minor": 1
}
